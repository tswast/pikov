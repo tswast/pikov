{
 "cells": [
  {
   "cell_type": "code",
   "execution_count": 1,
   "metadata": {},
   "outputs": [],
   "source": [
    "from pikov import pikov\n",
    "gamekitty = pikov.Pikov.open('gamekitty.pikov')"
   ]
  },
  {
   "cell_type": "code",
   "execution_count": 3,
   "metadata": {},
   "outputs": [
    {
     "ename": "TypeError",
     "evalue": "unsupported operand type(s) for /: 'list' and 'int'",
     "output_type": "error",
     "traceback": [
      "\u001b[0;31m---------------------------------------------------------------------------\u001b[0m",
      "\u001b[0;31mTypeError\u001b[0m                                 Traceback (most recent call last)",
      "\u001b[0;32m~/.pyenv/versions/3.6.1/envs/pikov/lib/python3.6/site-packages/IPython/core/formatters.py\u001b[0m in \u001b[0;36m__call__\u001b[0;34m(self, obj, include, exclude)\u001b[0m\n\u001b[1;32m    968\u001b[0m \u001b[0;34m\u001b[0m\u001b[0m\n\u001b[1;32m    969\u001b[0m             \u001b[0;32mif\u001b[0m \u001b[0mmethod\u001b[0m \u001b[0;32mis\u001b[0m \u001b[0;32mnot\u001b[0m \u001b[0;32mNone\u001b[0m\u001b[0;34m:\u001b[0m\u001b[0;34m\u001b[0m\u001b[0m\n\u001b[0;32m--> 970\u001b[0;31m                 \u001b[0;32mreturn\u001b[0m \u001b[0mmethod\u001b[0m\u001b[0;34m(\u001b[0m\u001b[0minclude\u001b[0m\u001b[0;34m=\u001b[0m\u001b[0minclude\u001b[0m\u001b[0;34m,\u001b[0m \u001b[0mexclude\u001b[0m\u001b[0;34m=\u001b[0m\u001b[0mexclude\u001b[0m\u001b[0;34m)\u001b[0m\u001b[0;34m\u001b[0m\u001b[0m\n\u001b[0m\u001b[1;32m    971\u001b[0m             \u001b[0;32mreturn\u001b[0m \u001b[0;32mNone\u001b[0m\u001b[0;34m\u001b[0m\u001b[0m\n\u001b[1;32m    972\u001b[0m         \u001b[0;32melse\u001b[0m\u001b[0;34m:\u001b[0m\u001b[0;34m\u001b[0m\u001b[0m\n",
      "\u001b[0;32m~/src/pikov/pikov/pikov.py\u001b[0m in \u001b[0;36m_repr_mimebundle_\u001b[0;34m(self, include, exclude, **kwargs)\u001b[0m\n\u001b[1;32m    399\u001b[0m         \u001b[0;31m# Clip can be represented by just a GIF.\u001b[0m\u001b[0;34m\u001b[0m\u001b[0;34m\u001b[0m\u001b[0m\n\u001b[1;32m    400\u001b[0m         \u001b[0;32mif\u001b[0m \u001b[0mshould_include\u001b[0m\u001b[0;34m(\u001b[0m\u001b[0;34m'image/gif'\u001b[0m\u001b[0;34m)\u001b[0m\u001b[0;34m:\u001b[0m\u001b[0;34m\u001b[0m\u001b[0m\n\u001b[0;32m--> 401\u001b[0;31m             \u001b[0mgif_contents\u001b[0m \u001b[0;34m=\u001b[0m \u001b[0mself\u001b[0m\u001b[0;34m.\u001b[0m\u001b[0m_as_gif\u001b[0m\u001b[0;34m(\u001b[0m\u001b[0;34m)\u001b[0m\u001b[0;34m\u001b[0m\u001b[0m\n\u001b[0m\u001b[1;32m    402\u001b[0m             \u001b[0;32mif\u001b[0m \u001b[0mgif_contents\u001b[0m\u001b[0;34m:\u001b[0m\u001b[0;34m\u001b[0m\u001b[0m\n\u001b[1;32m    403\u001b[0m                 \u001b[0mdata\u001b[0m\u001b[0;34m[\u001b[0m\u001b[0;34m'image/gif'\u001b[0m\u001b[0;34m]\u001b[0m \u001b[0;34m=\u001b[0m \u001b[0mgif_contents\u001b[0m\u001b[0;34m\u001b[0m\u001b[0m\n",
      "\u001b[0;32m~/src/pikov/pikov/pikov.py\u001b[0m in \u001b[0;36m_as_gif\u001b[0;34m(self)\u001b[0m\n\u001b[1;32m    353\u001b[0m \u001b[0;34m\u001b[0m\u001b[0m\n\u001b[1;32m    354\u001b[0m         \u001b[0moutput\u001b[0m \u001b[0;34m=\u001b[0m \u001b[0mio\u001b[0m\u001b[0;34m.\u001b[0m\u001b[0mBytesIO\u001b[0m\u001b[0;34m(\u001b[0m\u001b[0;34m)\u001b[0m\u001b[0;34m\u001b[0m\u001b[0m\n\u001b[0;32m--> 355\u001b[0;31m         \u001b[0mself\u001b[0m\u001b[0;34m.\u001b[0m\u001b[0msave_gif\u001b[0m\u001b[0;34m(\u001b[0m\u001b[0moutput\u001b[0m\u001b[0;34m)\u001b[0m\u001b[0;34m\u001b[0m\u001b[0m\n\u001b[0m\u001b[1;32m    356\u001b[0m         \u001b[0;32mreturn\u001b[0m \u001b[0moutput\u001b[0m\u001b[0;34m.\u001b[0m\u001b[0mgetvalue\u001b[0m\u001b[0;34m(\u001b[0m\u001b[0;34m)\u001b[0m\u001b[0;34m\u001b[0m\u001b[0m\n\u001b[1;32m    357\u001b[0m \u001b[0;34m\u001b[0m\u001b[0m\n",
      "\u001b[0;32m~/src/pikov/pikov/pikov.py\u001b[0m in \u001b[0;36msave_gif\u001b[0;34m(self, fp)\u001b[0m\n\u001b[1;32m    318\u001b[0m         imgs[0].save(\n\u001b[1;32m    319\u001b[0m             \u001b[0mfp\u001b[0m\u001b[0;34m,\u001b[0m \u001b[0mformat\u001b[0m\u001b[0;34m=\u001b[0m\u001b[0;34m'gif'\u001b[0m\u001b[0;34m,\u001b[0m \u001b[0msave_all\u001b[0m\u001b[0;34m=\u001b[0m\u001b[0;32mTrue\u001b[0m\u001b[0;34m,\u001b[0m \u001b[0mappend_images\u001b[0m\u001b[0;34m=\u001b[0m\u001b[0mimgs\u001b[0m\u001b[0;34m[\u001b[0m\u001b[0;36m1\u001b[0m\u001b[0;34m:\u001b[0m\u001b[0;34m]\u001b[0m\u001b[0;34m,\u001b[0m\u001b[0;34m\u001b[0m\u001b[0m\n\u001b[0;32m--> 320\u001b[0;31m             duration=durations, loop=0)\n\u001b[0m\u001b[1;32m    321\u001b[0m \u001b[0;34m\u001b[0m\u001b[0m\n\u001b[1;32m    322\u001b[0m     \u001b[0;32mdef\u001b[0m \u001b[0mtransition_to\u001b[0m\u001b[0;34m(\u001b[0m\u001b[0mself\u001b[0m\u001b[0;34m,\u001b[0m \u001b[0mtarget\u001b[0m\u001b[0;34m:\u001b[0m \u001b[0;34m'BaseClip'\u001b[0m\u001b[0;34m)\u001b[0m \u001b[0;34m->\u001b[0m \u001b[0;34m'Transition'\u001b[0m\u001b[0;34m:\u001b[0m\u001b[0;34m\u001b[0m\u001b[0m\n",
      "\u001b[0;32m~/.pyenv/versions/3.6.1/envs/pikov/lib/python3.6/site-packages/PIL/Image.py\u001b[0m in \u001b[0;36msave\u001b[0;34m(self, fp, format, **params)\u001b[0m\n\u001b[1;32m   1933\u001b[0m \u001b[0;34m\u001b[0m\u001b[0m\n\u001b[1;32m   1934\u001b[0m         \u001b[0;32mtry\u001b[0m\u001b[0;34m:\u001b[0m\u001b[0;34m\u001b[0m\u001b[0m\n\u001b[0;32m-> 1935\u001b[0;31m             \u001b[0msave_handler\u001b[0m\u001b[0;34m(\u001b[0m\u001b[0mself\u001b[0m\u001b[0;34m,\u001b[0m \u001b[0mfp\u001b[0m\u001b[0;34m,\u001b[0m \u001b[0mfilename\u001b[0m\u001b[0;34m)\u001b[0m\u001b[0;34m\u001b[0m\u001b[0m\n\u001b[0m\u001b[1;32m   1936\u001b[0m         \u001b[0;32mfinally\u001b[0m\u001b[0;34m:\u001b[0m\u001b[0;34m\u001b[0m\u001b[0m\n\u001b[1;32m   1937\u001b[0m             \u001b[0;31m# do what we can to clean up\u001b[0m\u001b[0;34m\u001b[0m\u001b[0;34m\u001b[0m\u001b[0m\n",
      "\u001b[0;32m~/.pyenv/versions/3.6.1/envs/pikov/lib/python3.6/site-packages/PIL/GifImagePlugin.py\u001b[0m in \u001b[0;36m_save_all\u001b[0;34m(im, fp, filename)\u001b[0m\n\u001b[1;32m    454\u001b[0m \u001b[0;34m\u001b[0m\u001b[0m\n\u001b[1;32m    455\u001b[0m \u001b[0;32mdef\u001b[0m \u001b[0m_save_all\u001b[0m\u001b[0;34m(\u001b[0m\u001b[0mim\u001b[0m\u001b[0;34m,\u001b[0m \u001b[0mfp\u001b[0m\u001b[0;34m,\u001b[0m \u001b[0mfilename\u001b[0m\u001b[0;34m)\u001b[0m\u001b[0;34m:\u001b[0m\u001b[0;34m\u001b[0m\u001b[0m\n\u001b[0;32m--> 456\u001b[0;31m     \u001b[0m_save\u001b[0m\u001b[0;34m(\u001b[0m\u001b[0mim\u001b[0m\u001b[0;34m,\u001b[0m \u001b[0mfp\u001b[0m\u001b[0;34m,\u001b[0m \u001b[0mfilename\u001b[0m\u001b[0;34m,\u001b[0m \u001b[0msave_all\u001b[0m\u001b[0;34m=\u001b[0m\u001b[0;32mTrue\u001b[0m\u001b[0;34m)\u001b[0m\u001b[0;34m\u001b[0m\u001b[0m\n\u001b[0m\u001b[1;32m    457\u001b[0m \u001b[0;34m\u001b[0m\u001b[0m\n\u001b[1;32m    458\u001b[0m \u001b[0;34m\u001b[0m\u001b[0m\n",
      "\u001b[0;32m~/.pyenv/versions/3.6.1/envs/pikov/lib/python3.6/site-packages/PIL/GifImagePlugin.py\u001b[0m in \u001b[0;36m_save\u001b[0;34m(im, fp, filename, save_all)\u001b[0m\n\u001b[1;32m    467\u001b[0m \u001b[0;34m\u001b[0m\u001b[0m\n\u001b[1;32m    468\u001b[0m     \u001b[0;32mif\u001b[0m \u001b[0;32mnot\u001b[0m \u001b[0msave_all\u001b[0m \u001b[0;32mor\u001b[0m \u001b[0;32mnot\u001b[0m \u001b[0m_write_multiple_frames\u001b[0m\u001b[0;34m(\u001b[0m\u001b[0mim\u001b[0m\u001b[0;34m,\u001b[0m \u001b[0mfp\u001b[0m\u001b[0;34m,\u001b[0m \u001b[0mpalette\u001b[0m\u001b[0;34m)\u001b[0m\u001b[0;34m:\u001b[0m\u001b[0;34m\u001b[0m\u001b[0m\n\u001b[0;32m--> 469\u001b[0;31m         \u001b[0m_write_single_frame\u001b[0m\u001b[0;34m(\u001b[0m\u001b[0mim\u001b[0m\u001b[0;34m,\u001b[0m \u001b[0mfp\u001b[0m\u001b[0;34m,\u001b[0m \u001b[0mpalette\u001b[0m\u001b[0;34m)\u001b[0m\u001b[0;34m\u001b[0m\u001b[0m\n\u001b[0m\u001b[1;32m    470\u001b[0m \u001b[0;34m\u001b[0m\u001b[0m\n\u001b[1;32m    471\u001b[0m     \u001b[0mfp\u001b[0m\u001b[0;34m.\u001b[0m\u001b[0mwrite\u001b[0m\u001b[0;34m(\u001b[0m\u001b[0;34mb\";\"\u001b[0m\u001b[0;34m)\u001b[0m  \u001b[0;31m# end of file\u001b[0m\u001b[0;34m\u001b[0m\u001b[0m\n",
      "\u001b[0;32m~/.pyenv/versions/3.6.1/envs/pikov/lib/python3.6/site-packages/PIL/GifImagePlugin.py\u001b[0m in \u001b[0;36m_write_single_frame\u001b[0;34m(im, fp, palette)\u001b[0m\n\u001b[1;32m    382\u001b[0m     \u001b[0;32mif\u001b[0m \u001b[0mget_interlace\u001b[0m\u001b[0;34m(\u001b[0m\u001b[0mim\u001b[0m\u001b[0;34m)\u001b[0m\u001b[0;34m:\u001b[0m\u001b[0;34m\u001b[0m\u001b[0m\n\u001b[1;32m    383\u001b[0m         \u001b[0mflags\u001b[0m \u001b[0;34m=\u001b[0m \u001b[0mflags\u001b[0m \u001b[0;34m|\u001b[0m \u001b[0;36m64\u001b[0m\u001b[0;34m\u001b[0m\u001b[0m\n\u001b[0;32m--> 384\u001b[0;31m     \u001b[0m_write_local_header\u001b[0m\u001b[0;34m(\u001b[0m\u001b[0mfp\u001b[0m\u001b[0;34m,\u001b[0m \u001b[0mim\u001b[0m\u001b[0;34m,\u001b[0m \u001b[0;34m(\u001b[0m\u001b[0;36m0\u001b[0m\u001b[0;34m,\u001b[0m \u001b[0;36m0\u001b[0m\u001b[0;34m)\u001b[0m\u001b[0;34m,\u001b[0m \u001b[0mflags\u001b[0m\u001b[0;34m)\u001b[0m\u001b[0;34m\u001b[0m\u001b[0m\n\u001b[0m\u001b[1;32m    385\u001b[0m \u001b[0;34m\u001b[0m\u001b[0m\n\u001b[1;32m    386\u001b[0m     \u001b[0mim_out\u001b[0m\u001b[0;34m.\u001b[0m\u001b[0mencoderconfig\u001b[0m \u001b[0;34m=\u001b[0m \u001b[0;34m(\u001b[0m\u001b[0;36m8\u001b[0m\u001b[0;34m,\u001b[0m \u001b[0mget_interlace\u001b[0m\u001b[0;34m(\u001b[0m\u001b[0mim\u001b[0m\u001b[0;34m)\u001b[0m\u001b[0;34m)\u001b[0m\u001b[0;34m\u001b[0m\u001b[0m\n",
      "\u001b[0;32m~/.pyenv/versions/3.6.1/envs/pikov/lib/python3.6/site-packages/PIL/GifImagePlugin.py\u001b[0m in \u001b[0;36m_write_local_header\u001b[0;34m(fp, im, offset, flags)\u001b[0m\n\u001b[1;32m    505\u001b[0m \u001b[0;34m\u001b[0m\u001b[0m\n\u001b[1;32m    506\u001b[0m     \u001b[0;32mif\u001b[0m \u001b[0;34m\"duration\"\u001b[0m \u001b[0;32min\u001b[0m \u001b[0mim\u001b[0m\u001b[0;34m.\u001b[0m\u001b[0mencoderinfo\u001b[0m\u001b[0;34m:\u001b[0m\u001b[0;34m\u001b[0m\u001b[0m\n\u001b[0;32m--> 507\u001b[0;31m         \u001b[0mduration\u001b[0m \u001b[0;34m=\u001b[0m \u001b[0mint\u001b[0m\u001b[0;34m(\u001b[0m\u001b[0mim\u001b[0m\u001b[0;34m.\u001b[0m\u001b[0mencoderinfo\u001b[0m\u001b[0;34m[\u001b[0m\u001b[0;34m\"duration\"\u001b[0m\u001b[0;34m]\u001b[0m \u001b[0;34m/\u001b[0m \u001b[0;36m10\u001b[0m\u001b[0;34m)\u001b[0m\u001b[0;34m\u001b[0m\u001b[0m\n\u001b[0m\u001b[1;32m    508\u001b[0m     \u001b[0;32melse\u001b[0m\u001b[0;34m:\u001b[0m\u001b[0;34m\u001b[0m\u001b[0m\n\u001b[1;32m    509\u001b[0m         \u001b[0mduration\u001b[0m \u001b[0;34m=\u001b[0m \u001b[0;36m0\u001b[0m\u001b[0;34m\u001b[0m\u001b[0m\n",
      "\u001b[0;31mTypeError\u001b[0m: unsupported operand type(s) for /: 'list' and 'int'"
     ]
    },
    {
     "data": {
      "text/plain": [
       "MultiClip(frames=(Frame(id='1'), Frame(id='1'), Frame(id='1'), Frame(id='1'), Frame(id='1'), Frame(id='1'), Frame(id='1'), Frame(id='1'), Frame(id='1'), Frame(id='1'), Frame(id='1'), Frame(id='1'), Frame(id='1'), Frame(id='1'), Frame(id='1'), Frame(id='1'), Frame(id='1'), Frame(id='1'), Frame(id='1'), Frame(id='1'), Frame(id='1'), Frame(id='1'), Frame(id='1'), Frame(id='1'), Frame(id='1'), Frame(id='1'), Frame(id='1'), Frame(id='1'), Frame(id='1'), Frame(id='1'), Frame(id='1'), Frame(id='1'), Frame(id='1'), Frame(id='1'), Frame(id='1'), Frame(id='1'), Frame(id='1'), Frame(id='1'), Frame(id='1'), Frame(id='1'), Frame(id='1'), Frame(id='1'), Frame(id='1'), Frame(id='1'), Frame(id='1'), Frame(id='1'), Frame(id='1'), Frame(id='1'), Frame(id='1'), Frame(id='1'), Frame(id='1'), Frame(id='1'), Frame(id='1'), Frame(id='1'), Frame(id='1'), Frame(id='1'), Frame(id='1'), Frame(id='1'), Frame(id='1'), Frame(id='1'), Frame(id='1'), Frame(id='1'), Frame(id='1'), Frame(id='1'), Frame(id='1'), Frame(id='1'), Frame(id='1'), Frame(id='1'), Frame(id='1'), Frame(id='1'), Frame(id='1'), Frame(id='1'), Frame(id='1'), Frame(id='1'), Frame(id='1'), Frame(id='1'), Frame(id='1'), Frame(id='1'), Frame(id='1'), Frame(id='1'), Frame(id='1'), Frame(id='1'), Frame(id='1'), Frame(id='1'), Frame(id='1'), Frame(id='1'), Frame(id='1'), Frame(id='1'), Frame(id='1'), Frame(id='1'), Frame(id='1'), Frame(id='1'), Frame(id='1'), Frame(id='1'), Frame(id='1'), Frame(id='1'), Frame(id='1'), Frame(id='1'), Frame(id='1'), Frame(id='1'), Frame(id='1'), Frame(id='1'), Frame(id='1'), Frame(id='1'), Frame(id='1'), Frame(id='1'), Frame(id='1'), Frame(id='1'), Frame(id='1'), Frame(id='1'), Frame(id='1'), Frame(id='1'), Frame(id='1'), Frame(id='1'), Frame(id='1'), Frame(id='1'), Frame(id='1'), Frame(id='1'), Frame(id='1'), Frame(id='1'), Frame(id='1'))')"
      ]
     },
     "execution_count": 3,
     "metadata": {},
     "output_type": "execute_result"
    }
   ],
   "source": [
    "gamekitty._preview_clip(gamekitty.start_frame)"
   ]
  },
  {
   "cell_type": "code",
   "execution_count": 4,
   "metadata": {},
   "outputs": [
    {
     "data": {
      "image/gif": "[encoded data removed]",
      "text/html": [
       "<table><tr><th>Clip</th><th></th></tr><tr><td>id</td><td>stand_waggle</td></tr><tr><td>frames</td><td><img alt=\"clip preview\" src=\"data:image/gif;base64,R0lGODlhCAAIAIEAAF9XTx0rU4N2nAAAACH5BAAIAAAAIf8LTkVUU0NBUEUyLjADAQAAACwAAAAACAAIAAAIPQABDAAwoCCAAQEABBjAEMAAABAFDBgAYMAAABgzDhgAoKPHAQMAiBw5YACAAQAGBAAwYICAAQIGBBAwICAAIfkEAAgAAAAh/wtORVRTQ0FQRTIuMAMBAAAALAUAAAACAAIAgV9XTx0rU4N2nAAAAAgHAAEMAAAgIAA7\" style=\"width: 5em; image-rendering: -moz-crisp-edges; image-rendering: crisp-edges; image-rendering: pixelated; \"></td></tr></table>"
      ],
      "text/plain": [
       "Clip(id='stand_waggle')"
      ]
     },
     "execution_count": 4,
     "metadata": {},
     "output_type": "execute_result"
    }
   ],
   "source": [
    "clip = gamekitty.get_clip('stand_waggle')\n",
    "clip"
   ]
  },
  {
   "cell_type": "code",
   "execution_count": 5,
   "metadata": {},
   "outputs": [],
   "source": [
    "# Show the mirrored version of the same frames.\n",
    "# gamekitty.get_clip('stand_waggle_mirror')"
   ]
  },
  {
   "cell_type": "code",
   "execution_count": 6,
   "metadata": {},
   "outputs": [
    {
     "data": {
      "image/png": "[encoded data removed]",
      "text/html": [
       "<table><tr><th>Frame</th><th></th></tr><tr><td>id</td><td>('stand_waggle', 1)</td></tr><tr><td>duration</td><td>0.083333 seconds</td></tr><tr><td>image.key</td><td>md5-55bea535357482806ad24bf699c7941d</td></tr><tr><td>image.contents</td><td><img alt=\"image with key md5-55bea535357482806ad24bf699c7941d\" src=\"data:image/png;base64,iVBORw0KGgoAAAANSUhEUgAAAAgAAAAICAYAAADED76LAAAAZ0lEQVR4nGOID/f/z8DAwACj0dlM+66wMMSH+//fd4WFARnAFDE56fxhYGBgYHDS+cPQXDbnPwMDA8PClRsZYQoZ0Y1EBgtXbmRkwiaBDIhXALN34cqNjMgOZmJgYGBQkfdlQKaR2QD0Rx/wn9C1wQAAAABJRU5ErkJggg==\" style=\"width: 5em; image-rendering: -moz-crisp-edges; image-rendering: crisp-edges; image-rendering: pixelated; \"></td></tr><tr><td>properties</td><td style=\"text-align: left;\"><pre>{\n",
       "  \"originalImage\": {\n",
       "    \"path\": \"gamekitty.png\",\n",
       "    \"x\": 32,\n",
       "    \"y\": 0,\n",
       "    \"width\": 8,\n",
       "    \"height\": 8,\n",
       "    \"flipX\": false\n",
       "  }\n",
       "}</pre></td></tr></table>"
      ],
      "text/plain": [
       "Frame(id='('stand_waggle', 1)')"
      ]
     },
     "execution_count": 6,
     "metadata": {},
     "output_type": "execute_result"
    }
   ],
   "source": [
    "clip.frames[1]"
   ]
  },
  {
   "cell_type": "code",
   "execution_count": 7,
   "metadata": {},
   "outputs": [
    {
     "data": {
      "image/png": "[encoded data removed]",
      "text/html": [
       "<table><tr><th>Image</th><th></th></tr><tr><td>key</td><td>md5-c28a87eda869e3329710b6e9cbb8cd76</td></tr><tr><td>content_type</td><td>image/png</td></tr><tr><td>contents</td><td><img alt=\"image with key md5-c28a87eda869e3329710b6e9cbb8cd76\" src=\"data:image/png;base64,iVBORw0KGgoAAAANSUhEUgAAAAgAAAAICAYAAADED76LAAAAX0lEQVR4nGOID/f/z8DAwACjYQDGZ9p3hYUhPtz//74rLAzYAJOTzh8GBgYGBiedPwzNZXP+oytgxGY8DCxcuZGRCau5yFYQrWDhyo2MMBrZwUwMDAwMKvK+DMg0MhsA85Yb8GJtyLkAAAAASUVORK5CYII=\" style=\"width: 5em; image-rendering: -moz-crisp-edges; image-rendering: crisp-edges; image-rendering: pixelated; \"></td></tr></table>"
      ],
      "text/plain": [
       "Image(key='md5-c28a87eda869e3329710b6e9cbb8cd76')"
      ]
     },
     "execution_count": 7,
     "metadata": {},
     "output_type": "execute_result"
    }
   ],
   "source": [
    "clip.frames[0].image"
   ]
  },
  {
   "cell_type": "code",
   "execution_count": 8,
   "metadata": {},
   "outputs": [
    {
     "data": {
      "image/png": "[encoded data removed]",
      "text/html": [
       "<table><tr><th>Image</th><th></th></tr><tr><td>key</td><td>md5-9b084a2f4cc7a7f940fac47ebe710c45</td></tr><tr><td>content_type</td><td>image/png</td></tr><tr><td>contents</td><td><img alt=\"image with key md5-9b084a2f4cc7a7f940fac47ebe710c45\" src=\"data:image/png;base64,iVBORw0KGgoAAAANSUhEUgAAAAgAAAAICAYAAADED76LAAAAXElEQVR4nGNgYGBgiA/3/49MIwMmBgYGhn1XWBjiw/3/77vCgi4PUeCk84cBRjeXzUExhRHGQDd+4cqNjHATsAGYBpwKUNwAA+iOlNUO/g9XoCLvC6dhbCedPwwAJgMa/Dg5AkIAAAAASUVORK5CYII=\" style=\"width: 5em; image-rendering: -moz-crisp-edges; image-rendering: crisp-edges; image-rendering: pixelated; \"></td></tr></table>"
      ],
      "text/plain": [
       "Image(key='md5-9b084a2f4cc7a7f940fac47ebe710c45')"
      ]
     },
     "execution_count": 8,
     "metadata": {},
     "output_type": "execute_result"
    }
   ],
   "source": [
    "gamekitty.get_image('md5-9b084a2f4cc7a7f940fac47ebe710c45')"
   ]
  },
  {
   "cell_type": "code",
   "execution_count": 9,
   "metadata": {},
   "outputs": [
    {
     "data": {
      "image/gif": "[encoded data removed]",
      "text/html": [
       "<table><tr><th>MultiClip</th><th></th></tr><tr><td>frames</td><td>Frame(id='('sit', 0)')<br>Frame(id='('sit_to_stand', 0)')<br>Frame(id='('sit_to_stand', 1)')<br>Frame(id='('sit_to_stand', 2)')<br>Frame(id='('sit_to_stand', 3)')<br>Frame(id='('stand_waggle', 0)')<br>Frame(id='('stand_waggle', 1)')<br>Frame(id='('stand_waggle', 0)')<br>Frame(id='('stand_waggle', 1)')<br>Frame(id='('stand_to_sit', 0)')<br>Frame(id='('stand_to_sit', 1)')<br>Frame(id='('stand_to_sit', 2)')<br>Frame(id='('stand_to_sit', 3)')<br>Frame(id='('stand_to_sit', 4)')<br>Frame(id='('sit_paw', 0)')<br>Frame(id='('sit_paw', 1)')<br>Frame(id='('sit_paw', 2)')<br>Frame(id='('sit_paw', 3)')<br>Frame(id='('sit_paw', 4)')</td></tr><tr><td>preview</td><td><img alt=\"clip preview\" src=\"data:image/gif;base64,R0lGODlhCAAIAIEAAF9XTx0rU4N2nAAAACH5BAAIAAAAIf8LTkVUU0NBUEUyLjADAQAAACwAAAAACAAIAAAIOQAHABgAYIBBgwEABBjAkCGAhwIGSJQIoCKAARgHANi4cYBHACBBDhgJIACAkwEGDBAQQIAAAAACAgAh+QQACAAAACH/C05FVFNDQVBFMi4wAwEAAAAsAwAGAAIAAgCBX1dPHStTg3acAAAACAcABQAIECAgACH5BAAIAAAAIf8LTkVUU0NBUEUyLjADAQAAACwDAAIABQAGAIFfV08dK1ODdpwAAAAIHgABCAAwYACAgwACAFgIIACAhxAHAJgoIIAAAAMCAgAh+QQACAAAACH/C05FVFNDQVBFMi4wAwEAAAAsAAAAAAgACACBX1dPHStTg3acAAAACDwAAQwAMKBgwQAAAgxYCGAAgIcCBgwAAGAAgIsXBwAYAKCjRwADAgAYOXKASQEABgQAMKDlAAEBBAAYEBAAIfkEAAgAAAAh/wtORVRTQ0FQRTIuMAMBAAAALAEAAAAHAAgAgV9XTx0rU4N2nAAAAAg4AAcAGDAAwIABAAIMGAAAwAAAAAQMGABgAICLGAcA2MhxAICPIAcAGABgQAAAAwQMEDAggIABAQEAIfkEAAgAAAAh/wtORVRTQ0FQRTIuMAMBAAAALAUAAAACAAIAgV9XTx0rU4N2nAAAAAgHAAcAGAAgIAAh+QQACAAAACH/C05FVFNDQVBFMi4wAwEAAAAsBQAAAAIAAgCBX1dPHStTg3acAAAACAcAAQwAACAgACH5BAAIAAAAIf8LTkVUU0NBUEUyLjADAQAAACwFAAAAAgACAIFfV08dK1ODdpwAAAAIBwAHABgAICAAIfkEAAgAAAAh/wtORVRTQ0FQRTIuMAMBAAAALAUAAAACAAIAgV9XTx0rU4N2nAAAAAgHAAEMAAAgIAAh+QQACAAAACH/C05FVFNDQVBFMi4wAwEAAAAsAQAAAAcACACBX1dPHStTg3acAAAACDMABwAYQBDAAAABBigEwBCAAAABBgCYSDEAgIsYLwYAwJHjgAECAAwIAGCASQEDAggYEBAAIfkEAAgAAAAh/wtORVRTQ0FQRTIuMAMBAAAALAAAAAAHAAgAgV9XTx0rU4N2nAAAAAg5AAcAGABgwAAAAwIACDBgAIABACIKADCgIoCLFwcMAMCR44ABAEKGHDAAAIABAQAMGCBAwIAAAgICACH5BAAIAAAAIf8LTkVUU0NBUEUyLjADAQAAACwDAAUAAQADAIFfV08dK1ODdpwAAAAIBwADABAwICAAIfkEAAgAAAAh/wtORVRTQ0FQRTIuMAMBAAAALAMAAAAFAAgAgV9XTx0rU4N2nAAAAAgqAAEMGDggwICDAwAIADAgAICHAAIAmAggAICLAAIMABAAAIABAgIIGBAQACH5BAAIAAAAIf8LTkVUU0NBUEUyLjADAQAAACwFAAIAAwAGAIFfV08dK1ODdpwAAAAIFgAHCAQwYAAAAAMAAAgAAEAAAQAABAQAIfkEAAgAAAAh/wtORVRTQ0FQRTIuMAMBAAAALAEABQADAAMAgV9XTx0rU4N2nAAAAAgMAAEIFDAgwIAAAQICACH5BAAIAAAAIf8LTkVUU0NBUEUyLjADAQAAACwAAAQAAgADAIFfV08dK1ODdpwAAAAICQAHABAAYMCAgAAh+QQACAAAACH/C05FVFNDQVBFMi4wAwEAAAAsAAAEAAMAAwCBX1dPHStTg3acAAAACA0ABwwAMAAAgAEDBAQEACH5BAAIAAAAIf8LTkVUU0NBUEUyLjADAQAAACwBAAUAAwACAIFfV08dK1ODdpwAAAAICQAHAAAwYICAgAAh+QQACAAAACH/C05FVFNDQVBFMi4wAwEAAAAsAgAGAAIAAgCBX1dPHStTg3acAAAACAcAAQQQECAgADs=\" style=\"width: 5em; image-rendering: -moz-crisp-edges; image-rendering: crisp-edges; image-rendering: pixelated; \"></td></tr></table>"
      ],
      "text/plain": [
       "MultiClip(frames=(Frame(id='('sit', 0)'), Frame(id='('sit_to_stand', 0)'), Frame(id='('sit_to_stand', 1)'), Frame(id='('sit_to_stand', 2)'), Frame(id='('sit_to_stand', 3)'), Frame(id='('stand_waggle', 0)'), Frame(id='('stand_waggle', 1)'), Frame(id='('stand_waggle', 0)'), Frame(id='('stand_waggle', 1)'), Frame(id='('stand_to_sit', 0)'), Frame(id='('stand_to_sit', 1)'), Frame(id='('stand_to_sit', 2)'), Frame(id='('stand_to_sit', 3)'), Frame(id='('stand_to_sit', 4)'), Frame(id='('sit_paw', 0)'), Frame(id='('sit_paw', 1)'), Frame(id='('sit_paw', 2)'), Frame(id='('sit_paw', 3)'), Frame(id='('sit_paw', 4)'))')"
      ]
     },
     "execution_count": 9,
     "metadata": {},
     "output_type": "execute_result"
    }
   ],
   "source": [
    "sit = gamekitty.get_clip('sit')\n",
    "sit_to_stand = gamekitty.get_clip('sit_to_stand')\n",
    "sit_paw = gamekitty.get_clip('sit_paw')\n",
    "stand_to_sit = gamekitty.get_clip('stand_to_sit')\n",
    "sit + sit_to_stand + clip + clip + stand_to_sit + sit_paw"
   ]
  },
  {
   "cell_type": "code",
   "execution_count": null,
   "metadata": {},
   "outputs": [],
   "source": []
  },
  {
   "cell_type": "code",
   "execution_count": null,
   "metadata": {},
   "outputs": [],
   "source": []
  }
 ],
 "metadata": {
  "kernelspec": {
   "display_name": "Python 3",
   "language": "python",
   "name": "python3"
  },
  "language_info": {
   "codemirror_mode": {
    "name": "ipython",
    "version": 3
   },
   "file_extension": ".py",
   "mimetype": "text/x-python",
   "name": "python",
   "nbconvert_exporter": "python",
   "pygments_lexer": "ipython3",
   "version": "3.6.1"
  }
 },
 "nbformat": 4,
 "nbformat_minor": 2
}
