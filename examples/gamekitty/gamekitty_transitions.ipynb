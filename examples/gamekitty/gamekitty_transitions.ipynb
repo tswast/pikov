{
 "cells": [
  {
   "cell_type": "code",
   "execution_count": 1,
   "metadata": {},
   "outputs": [],
   "source": [
    "from pikov import pikov\n",
    "gamekitty = pikov.Pikov.open('gamekitty.pikov')"
   ]
  },
  {
   "cell_type": "markdown",
   "metadata": {},
   "source": [
    "Add all transitions to clips where gamekitty does not move side-to-side."
   ]
  },
  {
   "cell_type": "code",
   "execution_count": 2,
   "metadata": {},
   "outputs": [],
   "source": [
    "sitting = gamekitty.get_clip('sit')  # was 1\n",
    "stand_up = gamekitty.get_clip('sit_to_stand')  # was 2\n",
    "standing_waggle = gamekitty.get_clip('stand_waggle')  # was 6\n",
    "sit_paw = gamekitty.get_clip('sit_paw')\n",
    "stand_to_sit = gamekitty.get_clip('stand_to_sit')\n",
    "\n",
    "standing_waggle_mirror = gamekitty.get_clip(standing_waggle.id + TO_MIRROR)\n",
    "\n",
    "sit_down = gamekitty.get_clip(7)\n",
    "\n",
    "turn_from_sitting = gamekitty.get_clip(8)\n",
    "sitting_bat = gamekitty.get_clip(15)\n",
    "\n",
    "standing_rear_left = gamekitty.get_clip(16)\n",
    "standing_rear_left_mirror = gamekitty.get_clip(16 + TO_MIRROR)\n",
    "\n",
    "lie_down = gamekitty.get_clip(17)"
   ]
  },
  {
   "cell_type": "code",
   "execution_count": 26,
   "metadata": {},
   "outputs": [
    {
     "data": {
      "text/plain": [
       "(Frame(id='(3, 1)'),\n",
       " Frame(id='(4, 7)'),\n",
       " Frame(id='(5, 3)'),\n",
       " Frame(id='(9, 7)'),\n",
       " Frame(id='(10, 3)'),\n",
       " Frame(id='(11, 6)'),\n",
       " Frame(id='(12, 2)'),\n",
       " Frame(id='(13, 2)'),\n",
       " Frame(id='(14, 11)'),\n",
       " Frame(id='(16, 0)'),\n",
       " Frame(id='(17, 8)'),\n",
       " Frame(id='(18, 0)'),\n",
       " Frame(id='(19, 3)'),\n",
       " Frame(id='(20, 1)'),\n",
       " Frame(id='(21, 7)'),\n",
       " Frame(id='(22, 3)'),\n",
       " Frame(id='(23, 1)'),\n",
       " Frame(id='(24, 4)'),\n",
       " Frame(id='(25, 6)'),\n",
       " Frame(id='(26, 7)'),\n",
       " Frame(id='(27, 3)'),\n",
       " Frame(id='(28, 6)'),\n",
       " Frame(id='(29, 2)'),\n",
       " Frame(id='(30, 2)'),\n",
       " Frame(id='(31, 11)'),\n",
       " Frame(id='(32, 4)'),\n",
       " Frame(id='(33, 0)'),\n",
       " Frame(id='(34, 8)'))"
      ]
     },
     "execution_count": 26,
     "metadata": {},
     "output_type": "execute_result"
    }
   ],
   "source": [
    "# Find any absorbing (dead-end) frames\n",
    "# to see how many clips left to connect.\n",
    "gamekitty.find_absorbing_frames()"
   ]
  },
  {
   "cell_type": "code",
   "execution_count": 4,
   "metadata": {},
   "outputs": [
    {
     "data": {
      "image/gif": "[encoded data removed]",
      "text/html": [
       "<table><tr><th>Transition</th><th></th></tr><tr><td>id</td><td>1</td></tr><tr><td>source.id</td><td>(1, 0)</td></tr><tr><td>source.image</td><td><img alt=\"image with key md5-9b084a2f4cc7a7f940fac47ebe710c45\" src=\"data:image/png;base64,iVBORw0KGgoAAAANSUhEUgAAAAgAAAAICAYAAADED76LAAAAXElEQVR4nGNgYGBgiA/3/49MIwMmBgYGhn1XWBjiw/3/77vCgi4PUeCk84cBRjeXzUExhRHGQDd+4cqNjHATsAGYBpwKUNwAA+iOlNUO/g9XoCLvC6dhbCedPwwAJgMa/Dg5AkIAAAAASUVORK5CYII=\" style=\"width: 5em; image-rendering: -moz-crisp-edges; image-rendering: crisp-edges; image-rendering: pixelated; \"></td></tr><tr><td>target.id</td><td>(1, 0)</td></tr><tr><td>target.image</td><td><img alt=\"image with key md5-9b084a2f4cc7a7f940fac47ebe710c45\" src=\"data:image/png;base64,iVBORw0KGgoAAAANSUhEUgAAAAgAAAAICAYAAADED76LAAAAXElEQVR4nGNgYGBgiA/3/49MIwMmBgYGhn1XWBjiw/3/77vCgi4PUeCk84cBRjeXzUExhRHGQDd+4cqNjHATsAGYBpwKUNwAA+iOlNUO/g9XoCLvC6dhbCedPwwAJgMa/Dg5AkIAAAAASUVORK5CYII=\" style=\"width: 5em; image-rendering: -moz-crisp-edges; image-rendering: crisp-edges; image-rendering: pixelated; \"></td></tr><tr><td>preview</td><td><img alt=\"clip preview\" src=\"data:image/gif;base64,R0lGODlhCAAIAIEAAF9XTx0rU4N2nAAAACH/C05FVFNDQVBFMi4wAwEAAAAsAAAAAAgACAAACDkABwAYAGCAQYMBAAQYwJAhgIcCBkiUCKAigAEYBwDYuHGARwAgQQ4YCSAAgJMBBgwQEECAAAAAAgIAOw==\" style=\"width: 5em; image-rendering: -moz-crisp-edges; image-rendering: crisp-edges; image-rendering: pixelated; \"></td></tr></table>"
      ],
      "text/plain": [
       "Transition(id=1, source=Frame(id='(1, 0)'), targetFrame(id='(1, 0)'))"
      ]
     },
     "execution_count": 4,
     "metadata": {},
     "output_type": "execute_result"
    }
   ],
   "source": [
    "sitting.transition_to(sitting)"
   ]
  },
  {
   "cell_type": "code",
   "execution_count": 5,
   "metadata": {},
   "outputs": [
    {
     "data": {
      "image/gif": "[encoded data removed]",
      "text/html": [
       "<table><tr><th>Transition</th><th></th></tr><tr><td>id</td><td>2</td></tr><tr><td>source.id</td><td>(1, 0)</td></tr><tr><td>source.image</td><td><img alt=\"image with key md5-9b084a2f4cc7a7f940fac47ebe710c45\" src=\"data:image/png;base64,iVBORw0KGgoAAAANSUhEUgAAAAgAAAAICAYAAADED76LAAAAXElEQVR4nGNgYGBgiA/3/49MIwMmBgYGhn1XWBjiw/3/77vCgi4PUeCk84cBRjeXzUExhRHGQDd+4cqNjHATsAGYBpwKUNwAA+iOlNUO/g9XoCLvC6dhbCedPwwAJgMa/Dg5AkIAAAAASUVORK5CYII=\" style=\"width: 5em; image-rendering: -moz-crisp-edges; image-rendering: crisp-edges; image-rendering: pixelated; \"></td></tr><tr><td>target.id</td><td>(2, 0)</td></tr><tr><td>target.image</td><td><img alt=\"image with key md5-7a5590b1aadeab3f768c176af5083b66\" src=\"data:image/png;base64,iVBORw0KGgoAAAANSUhEUgAAAAgAAAAICAYAAADED76LAAAAY0lEQVR4nGNgYGBgiA/3/49MIwMmBgYGhn1XWBjiw/3/77vCgi4PUeCk84cBRjeXzUExhRHGQDd+4cqNjHATsAGYBpwKUNwAAyryviiSstrB/5mQJWdt3c6w7woLXKGTzh8GACZ6HQIJhIKyAAAAAElFTkSuQmCC\" style=\"width: 5em; image-rendering: -moz-crisp-edges; image-rendering: crisp-edges; image-rendering: pixelated; \"></td></tr><tr><td>preview</td><td><img alt=\"clip preview\" src=\"data:image/gif;base64,R0lGODlhCAAIAIEAAF9XTx0rU4N2nAAAACH/C05FVFNDQVBFMi4wAwEAAAAsAAAAAAgACAAACDkABwAYAGCAQYMBAAQYwJAhgIcCBkiUCKAigAEYBwDYuHGARwAgQQ4YCSAAgJMBBgwQEECAAAAAAgIAIf8LTkVUU0NBUEUyLjADAQAAACwDAAYAAgACAIFfV08dK1ODdpwAAAAIBwAFAAgQICAAIf8LTkVUU0NBUEUyLjADAQAAACwDAAIABQAGAIFfV08dK1ODdpwAAAAIHgABCAAwYACAgwACAFgIIACAhxAHAJgoIIAAAAMCAgAh/wtORVRTQ0FQRTIuMAMBAAAALAAAAAAIAAgAgV9XTx0rU4N2nAAAAAg8AAEMADCgYMEAAAIMWAhgAICHAgYMAABgAICLFwcAGACgo0cAAwIAGDlygEkBAAYEADCg5QABAQQAGBAQACH/C05FVFNDQVBFMi4wAwEAAAAsAQAAAAcACACBX1dPHStTg3acAAAACDgABwAYMADAgAEAAgwYAADAAAAABAwYAGAAgIsYBwDYyHEAgI8gBwAYAGBAAAADBAwQMCCAgAEBAQA7\" style=\"width: 5em; image-rendering: -moz-crisp-edges; image-rendering: crisp-edges; image-rendering: pixelated; \"></td></tr></table>"
      ],
      "text/plain": [
       "Transition(id=2, source=Frame(id='(1, 0)'), targetFrame(id='(2, 0)'))"
      ]
     },
     "execution_count": 5,
     "metadata": {},
     "output_type": "execute_result"
    }
   ],
   "source": [
    "sitting.transition_to(stand_up)"
   ]
  },
  {
   "cell_type": "code",
   "execution_count": 6,
   "metadata": {},
   "outputs": [
    {
     "data": {
      "image/gif": "[encoded data removed]",
      "text/html": [
       "<table><tr><th>Transition</th><th></th></tr><tr><td>id</td><td>3</td></tr><tr><td>source.id</td><td>(1, 0)</td></tr><tr><td>source.image</td><td><img alt=\"image with key md5-9b084a2f4cc7a7f940fac47ebe710c45\" src=\"data:image/png;base64,iVBORw0KGgoAAAANSUhEUgAAAAgAAAAICAYAAADED76LAAAAXElEQVR4nGNgYGBgiA/3/49MIwMmBgYGhn1XWBjiw/3/77vCgi4PUeCk84cBRjeXzUExhRHGQDd+4cqNjHATsAGYBpwKUNwAA+iOlNUO/g9XoCLvC6dhbCedPwwAJgMa/Dg5AkIAAAAASUVORK5CYII=\" style=\"width: 5em; image-rendering: -moz-crisp-edges; image-rendering: crisp-edges; image-rendering: pixelated; \"></td></tr><tr><td>target.id</td><td>(8, 0)</td></tr><tr><td>target.image</td><td><img alt=\"image with key md5-7a5590b1aadeab3f768c176af5083b66\" src=\"data:image/png;base64,iVBORw0KGgoAAAANSUhEUgAAAAgAAAAICAYAAADED76LAAAAY0lEQVR4nGNgYGBgiA/3/49MIwMmBgYGhn1XWBjiw/3/77vCgi4PUeCk84cBRjeXzUExhRHGQDd+4cqNjHATsAGYBpwKUNwAAyryviiSstrB/5mQJWdt3c6w7woLXKGTzh8GACZ6HQIJhIKyAAAAAElFTkSuQmCC\" style=\"width: 5em; image-rendering: -moz-crisp-edges; image-rendering: crisp-edges; image-rendering: pixelated; \"></td></tr><tr><td>preview</td><td><img alt=\"clip preview\" src=\"data:image/gif;base64,R0lGODlhCAAIAIEAAF9XTx0rU4N2nAAAACH/C05FVFNDQVBFMi4wAwEAAAAsAAAAAAgACAAACDkABwAYAGCAQYMBAAQYwJAhgIcCBkiUCKAigAEYBwDYuHGARwAgQQ4YCSAAgJMBBgwQEECAAAAAAgIAIf8LTkVUU0NBUEUyLjADAQAAACwDAAYAAgACAIFfV08dK1ODdpwAAAAIBwAFAAgQICAAIf8LTkVUU0NBUEUyLjADAQAAACwBAAAABwAIAIFfV08dK1ODdpwAAAAIOAAHABgAYIDBAQEABBjAcACAhwMiDgAAQAAAAAEGANi4McAAACBBBhgAIIAAACgHCBgQQACAAQEBACH/C05FVFNDQVBFMi4wAwEAAAAsAgAAAAYACACBX1dPHStTg3acAAAACDIAAQwAMGBAgAAAAgwIEACAwwEBBgCYCCDAAAAYAQQYAKBjxwEDBAAYOWBAgAACAgwICAAh/wtORVRTQ0FQRTIuMAMBAAAALAIAAAAGAAcAgV9XTx0rU4N2nAAAAAgtAAcAGABgQIABAQAEGBBgAICHAQIAmAggwAAAGAEEGDAAgMcAAwYEEAAgwICAACH/C05FVFNDQVBFMi4wAwEAAAAsAgAAAAYACACBX1dPHStTg3acAAAACDMABwQYAGAAgAEBEgIIMGBAAAAQBwQQAADAgAEAMgIYMACARwADBgQAQHLAgAABBAgYEBAAIf8LTkVUU0NBUEUyLjADAQAAACwCAAAABAAIAIFfV08dK1ODdpwAAAAIHwADDBgAIECAAQEGBBgAIAAAAQAiSpwYUQCAAAEGBAQAIf8LTkVUU0NBUEUyLjADAQAAACwBAAEABwAHAIFfV08dK1ODdpwAAAAIKwAHBBgwIACAAAgHCADAsGHDAQAiShwAoKLFigECDAAwQACAAAMGCBgwICAAOw==\" style=\"width: 5em; image-rendering: -moz-crisp-edges; image-rendering: crisp-edges; image-rendering: pixelated; \"></td></tr></table>"
      ],
      "text/plain": [
       "Transition(id=3, source=Frame(id='(1, 0)'), targetFrame(id='(8, 0)'))"
      ]
     },
     "execution_count": 6,
     "metadata": {},
     "output_type": "execute_result"
    }
   ],
   "source": [
    "sitting.transition_to(turn_from_sitting)"
   ]
  },
  {
   "cell_type": "code",
   "execution_count": 7,
   "metadata": {},
   "outputs": [
    {
     "data": {
      "image/gif": "[encoded data removed]",
      "text/html": [
       "<table><tr><th>Clip</th><th></th></tr><tr><td>id</td><td>15</td></tr><tr><td>frames</td><td><img alt=\"clip preview\" src=\"data:image/gif;base64,R0lGODlhCAAIAIEAAF9XTx0rU4N2nAAAACH/C05FVFNDQVBFMi4wAwEAAAAsAAAAAAgACAAACDoABwAYAGCAQYMBAAQYwJAhgIcCBkiUCKAigAEYBwDYuHHAAAAgQwYYIGBAAAAoAwwYECCAAAEAAAQEACH/C05FVFNDQVBFMi4wAwEAAAAsAAAEAAIAAwCBX1dPHStTg3acAAAACAkABwAQAGDAgIAAIf8LTkVUU0NBUEUyLjADAQAAACwAAAQAAwADAIFfV08dK1ODdpwAAAAIDQAHDAAwAACAAQMEBAQAIf8LTkVUU0NBUEUyLjADAQAAACwBAAUAAwACAIFfV08dK1ODdpwAAAAICQAHAAAwYICAgAAh/wtORVRTQ0FQRTIuMAMBAAAALAIABgACAAIAgV9XTx0rU4N2nAAAAAgHAAEEEBAgIAA7\" style=\"width: 5em; image-rendering: -moz-crisp-edges; image-rendering: crisp-edges; image-rendering: pixelated; \"></td></tr></table>"
      ],
      "text/plain": [
       "Clip(id='15')"
      ]
     },
     "execution_count": 7,
     "metadata": {},
     "output_type": "execute_result"
    }
   ],
   "source": [
    "sitting_bat"
   ]
  },
  {
   "cell_type": "code",
   "execution_count": 8,
   "metadata": {},
   "outputs": [
    {
     "data": {
      "image/gif": "[encoded data removed]",
      "text/html": [
       "<table><tr><th>Transition</th><th></th></tr><tr><td>id</td><td>4</td></tr><tr><td>source.id</td><td>(1, 0)</td></tr><tr><td>source.image</td><td><img alt=\"image with key md5-9b084a2f4cc7a7f940fac47ebe710c45\" src=\"data:image/png;base64,iVBORw0KGgoAAAANSUhEUgAAAAgAAAAICAYAAADED76LAAAAXElEQVR4nGNgYGBgiA/3/49MIwMmBgYGhn1XWBjiw/3/77vCgi4PUeCk84cBRjeXzUExhRHGQDd+4cqNjHATsAGYBpwKUNwAA+iOlNUO/g9XoCLvC6dhbCedPwwAJgMa/Dg5AkIAAAAASUVORK5CYII=\" style=\"width: 5em; image-rendering: -moz-crisp-edges; image-rendering: crisp-edges; image-rendering: pixelated; \"></td></tr><tr><td>target.id</td><td>(15, 0)</td></tr><tr><td>target.image</td><td><img alt=\"image with key md5-ebf655bd0227763a437b8f97b57a618e\" src=\"data:image/png;base64,iVBORw0KGgoAAAANSUhEUgAAAAgAAAAICAYAAADED76LAAAAdElEQVR4nGNgYGBgiA/3/49MIwMmBgYGhn1XWBjiw/3/77vCgi4PUeCk84cBRjeXzUExhRHGQDd+4cqNjHATsAGYBkZcjoO5jYmBgYFBRd6XYeHKjYzYHAl3g6x28H8GBgaGNG9PBgYGBoY7DzczMDAwMAAAynIhcFzYUD4AAAAASUVORK5CYII=\" style=\"width: 5em; image-rendering: -moz-crisp-edges; image-rendering: crisp-edges; image-rendering: pixelated; \"></td></tr><tr><td>preview</td><td><img alt=\"clip preview\" src=\"data:image/gif;base64,R0lGODlhCAAIAIEAAF9XTx0rU4N2nAAAACH/C05FVFNDQVBFMi4wAwEAAAAsAAAAAAgACAAACDkABwAYAGCAQYMBAAQYwJAhgIcCBkiUCKAigAEYBwDYuHGARwAgQQ4YCSAAgJMBBgwQEECAAAAAAgIAIf8LTkVUU0NBUEUyLjADAQAAACwBAAUABwADAIFfV08dK1ODdpwAAAAIFgABCBwYQMCAAAASBhgQIIAAAQAABAQAIf8LTkVUU0NBUEUyLjADAQAAACwAAAQAAgADAIFfV08dK1ODdpwAAAAICQAHABAAYMCAgAAh/wtORVRTQ0FQRTIuMAMBAAAALAAABAADAAMAgV9XTx0rU4N2nAAAAAgNAAcMADAAAIABAwQEBAAh/wtORVRTQ0FQRTIuMAMBAAAALAEABQADAAIAgV9XTx0rU4N2nAAAAAgJAAcAADBggICAACH/C05FVFNDQVBFMi4wAwEAAAAsAgAGAAIAAgCBX1dPHStTg3acAAAACAcAAQQQECAgADs=\" style=\"width: 5em; image-rendering: -moz-crisp-edges; image-rendering: crisp-edges; image-rendering: pixelated; \"></td></tr></table>"
      ],
      "text/plain": [
       "Transition(id=4, source=Frame(id='(1, 0)'), targetFrame(id='(15, 0)'))"
      ]
     },
     "execution_count": 8,
     "metadata": {},
     "output_type": "execute_result"
    }
   ],
   "source": [
    "sitting.transition_to(sitting_bat)"
   ]
  },
  {
   "cell_type": "code",
   "execution_count": 9,
   "metadata": {},
   "outputs": [
    {
     "data": {
      "text/plain": [
       "(Transition(id=1, source=Frame(id='(1, 0)'), targetFrame(id='(1, 0)')),\n",
       " Transition(id=2, source=Frame(id='(1, 0)'), targetFrame(id='(2, 0)')),\n",
       " Transition(id=3, source=Frame(id='(1, 0)'), targetFrame(id='(8, 0)')),\n",
       " Transition(id=4, source=Frame(id='(1, 0)'), targetFrame(id='(15, 0)')))"
      ]
     },
     "execution_count": 9,
     "metadata": {},
     "output_type": "execute_result"
    }
   ],
   "source": [
    "sitting.transitions"
   ]
  },
  {
   "cell_type": "code",
   "execution_count": 10,
   "metadata": {},
   "outputs": [
    {
     "data": {
      "image/gif": "[encoded data removed]",
      "text/html": [
       "<table><tr><th>Transition</th><th></th></tr><tr><td>id</td><td>5</td></tr><tr><td>source.id</td><td>(15, 4)</td></tr><tr><td>source.image</td><td><img alt=\"image with key md5-cd8ada32d030c3790707bba202422b6a\" src=\"data:image/png;base64,iVBORw0KGgoAAAANSUhEUgAAAAgAAAAICAYAAADED76LAAAAYUlEQVR4nGNgYGBgiA/3/49MIwMmBgYGhn1XWBjiw/3/77vCgi4PUeCk84cBRjeXzUExhRHGQDd+4cqNjHATsAGYBpwKGBgYGGS1g/+jKMDpSAYGBgYVeV84DWM76fxhAABa3Rr80KdQhgAAAABJRU5ErkJggg==\" style=\"width: 5em; image-rendering: -moz-crisp-edges; image-rendering: crisp-edges; image-rendering: pixelated; \"></td></tr><tr><td>target.id</td><td>(1, 0)</td></tr><tr><td>target.image</td><td><img alt=\"image with key md5-9b084a2f4cc7a7f940fac47ebe710c45\" src=\"data:image/png;base64,iVBORw0KGgoAAAANSUhEUgAAAAgAAAAICAYAAADED76LAAAAXElEQVR4nGNgYGBgiA/3/49MIwMmBgYGhn1XWBjiw/3/77vCgi4PUeCk84cBRjeXzUExhRHGQDd+4cqNjHATsAGYBpwKUNwAA+iOlNUO/g9XoCLvC6dhbCedPwwAJgMa/Dg5AkIAAAAASUVORK5CYII=\" style=\"width: 5em; image-rendering: -moz-crisp-edges; image-rendering: crisp-edges; image-rendering: pixelated; \"></td></tr><tr><td>preview</td><td><img alt=\"clip preview\" src=\"data:image/gif;base64,R0lGODlhCAAIAIEAAF9XTx0rU4N2nAAAACH/C05FVFNDQVBFMi4wAwEAAAAsAAAAAAgACAAACDoABwAYAGCAQYMBAAQYwJAhgIcCBkiUCKAigAEYBwDYuHHAAAAgQwYYIGBAAAAoAwwYECCAAAEAAAQEACH/C05FVFNDQVBFMi4wAwEAAAAsAAAEAAIAAwCBX1dPHStTg3acAAAACAkABwAQAGDAgIAAIf8LTkVUU0NBUEUyLjADAQAAACwAAAQAAwADAIFfV08dK1ODdpwAAAAIDQAHDAAwAACAAQMEBAQAIf8LTkVUU0NBUEUyLjADAQAAACwBAAUAAwACAIFfV08dK1ODdpwAAAAICQAHAAAwYICAgAAh/wtORVRTQ0FQRTIuMAMBAAAALAIABgACAAIAgV9XTx0rU4N2nAAAAAgHAAEEEBAgIAAh/wtORVRTQ0FQRTIuMAMBAAAALAcABQABAAEAgV9XTx0rU4N2nAAAAAgFAAcACAgAOw==\" style=\"width: 5em; image-rendering: -moz-crisp-edges; image-rendering: crisp-edges; image-rendering: pixelated; \"></td></tr></table>"
      ],
      "text/plain": [
       "Transition(id=5, source=Frame(id='(15, 4)'), targetFrame(id='(1, 0)'))"
      ]
     },
     "execution_count": 10,
     "metadata": {},
     "output_type": "execute_result"
    }
   ],
   "source": [
    "sitting_bat.transition_to(sitting)"
   ]
  },
  {
   "cell_type": "code",
   "execution_count": 11,
   "metadata": {},
   "outputs": [
    {
     "data": {
      "image/gif": "[encoded data removed]",
      "text/html": [
       "<table><tr><th>Clip</th><th></th></tr><tr><td>id</td><td>6</td></tr><tr><td>frames</td><td><img alt=\"clip preview\" src=\"data:image/gif;base64,R0lGODlhCAAIAIEAAF9XTx0rU4N2nAAAACH/C05FVFNDQVBFMi4wAwEAAAAsAAAAAAgACAAACD0AAQwAMKAggAEBAAQYwBDAAAAQBQwYAGDAAAAYMw4YAKCjxwEDAIgcOWAAgAEABgQAMGCAgAECBgQQMCAgACH/C05FVFNDQVBFMi4wAwEAAAAsBQAAAAIAAgCBX1dPHStTg3acAAAACAcAAQwAACAgADs=\" style=\"width: 5em; image-rendering: -moz-crisp-edges; image-rendering: crisp-edges; image-rendering: pixelated; \"></td></tr></table>"
      ],
      "text/plain": [
       "Clip(id='6')"
      ]
     },
     "execution_count": 11,
     "metadata": {},
     "output_type": "execute_result"
    }
   ],
   "source": [
    "standing_waggle"
   ]
  },
  {
   "cell_type": "code",
   "execution_count": 12,
   "metadata": {},
   "outputs": [
    {
     "data": {
      "image/gif": "[encoded data removed]",
      "text/html": [
       "<table><tr><th>Transition</th><th></th></tr><tr><td>id</td><td>6</td></tr><tr><td>source.id</td><td>(2, 3)</td></tr><tr><td>source.image</td><td><img alt=\"image with key md5-55bea535357482806ad24bf699c7941d\" src=\"data:image/png;base64,iVBORw0KGgoAAAANSUhEUgAAAAgAAAAICAYAAADED76LAAAAZ0lEQVR4nGOID/f/z8DAwACj0dlM+66wMMSH+//fd4WFARnAFDE56fxhYGBgYHDS+cPQXDbnPwMDA8PClRsZYQoZ0Y1EBgtXbmRkwiaBDIhXALN34cqNjMgOZmJgYGBQkfdlQKaR2QD0Rx/wn9C1wQAAAABJRU5ErkJggg==\" style=\"width: 5em; image-rendering: -moz-crisp-edges; image-rendering: crisp-edges; image-rendering: pixelated; \"></td></tr><tr><td>target.id</td><td>(6, 0)</td></tr><tr><td>target.image</td><td><img alt=\"image with key md5-c28a87eda869e3329710b6e9cbb8cd76\" src=\"data:image/png;base64,iVBORw0KGgoAAAANSUhEUgAAAAgAAAAICAYAAADED76LAAAAX0lEQVR4nGOID/f/z8DAwACjYQDGZ9p3hYUhPtz//74rLAzYAJOTzh8GBgYGBiedPwzNZXP+oytgxGY8DCxcuZGRCau5yFYQrWDhyo2MMBrZwUwMDAwMKvK+DMg0MhsA85Yb8GJtyLkAAAAASUVORK5CYII=\" style=\"width: 5em; image-rendering: -moz-crisp-edges; image-rendering: crisp-edges; image-rendering: pixelated; \"></td></tr><tr><td>preview</td><td><img alt=\"clip preview\" src=\"data:image/gif;base64,R0lGODlhCAAIAIEAAF9XTx0rU4N2nAAAACH/C05FVFNDQVBFMi4wAwEAAAAsAAAAAAgACAAACDkABwAYAGCAQYMBAAQYwJAhgIcCBkiUCKAigAEYBwDYuHGARwAgQQ4YCUAAgJMBBgwQECCAAAAAAgIAIf8LTkVUU0NBUEUyLjADAQAAACwDAAIABQAGAIFfV08dK1ODdpwAAAAIHgABCAAwYACAgwACAFgIIACAhxAHAJgoIIAAAAMCAgAh/wtORVRTQ0FQRTIuMAMBAAAALAAAAAAIAAgAgV9XTx0rU4N2nAAAAAg8AAEMADCgYMEAAAIMWAhgAICHAgYMAABgAICLFwcAGACgo0cAAwIAGDlygEkBAAYEADCg5QABAQQAGBAQACH/C05FVFNDQVBFMi4wAwEAAAAsAQAAAAcACACBX1dPHStTg3acAAAACDgABwAYMADAgAEAAgwYAADAAAAABAwYAGAAgIsYBwDYyHEAgI8gBwAYAGBAAAADBAwQMCCAgAEBAQAh/wtORVRTQ0FQRTIuMAMBAAAALAUAAAACAAIAgV9XTx0rU4N2nAAAAAgHAAcAGAAgIAAh/wtORVRTQ0FQRTIuMAMBAAAALAUAAAACAAIAgV9XTx0rU4N2nAAAAAgHAAEMAAAgIAA7\" style=\"width: 5em; image-rendering: -moz-crisp-edges; image-rendering: crisp-edges; image-rendering: pixelated; \"></td></tr></table>"
      ],
      "text/plain": [
       "Transition(id=6, source=Frame(id='(2, 3)'), targetFrame(id='(6, 0)'))"
      ]
     },
     "execution_count": 12,
     "metadata": {},
     "output_type": "execute_result"
    }
   ],
   "source": [
    "stand_up.transition_to(standing_waggle)"
   ]
  },
  {
   "cell_type": "code",
   "execution_count": 13,
   "metadata": {},
   "outputs": [
    {
     "data": {
      "image/gif": "[encoded data removed]",
      "text/html": [
       "<table><tr><th>Clip</th><th></th></tr><tr><td>id</td><td>9</td></tr><tr><td>frames</td><td><img alt=\"clip preview\" src=\"data:image/gif;base64,R0lGODlhCAAIAIEAAF9XTx0rU4N2nAAAACH/C05FVFNDQVBFMi4wAwEAAAAsAAAAAAgACAAACD0AAQwAMGAAgAEDAgAIMGAAAAADAEgUMGAAgAEDAGjcOGAAgI8gBwwAQLLkgJMCAAwIAGCAywECBgQQMCAgACH/C05FVFNDQVBFMi4wAwEAAAAsAAAAAAcACACBX1dPHStTg3acAAAACDsABwAYAGBAgAEDAgAIMCBAgAEAIgoYEGDAAAAYAQQYMACAR48DBgAYOXLAAAADAAQAMGCAgAECAgAICAAh/wtORVRTQ0FQRTIuMAMBAAAALAQABgABAAIAgV9XTx0rU4N2nAAAAAgGAAUAGBAQACH/C05FVFNDQVBFMi4wAwEAAAAsAQAAAAYACACBX1dPHStTg3acAAAACDQABwAYACDAgAEBAAQIMGAAgIcBBgwAQBHAgAEAMgIYMACAxwADBgAIACDAgAECAggIMCAgACH/C05FVFNDQVBFMi4wAwEAAAAsAgAGAAIAAgCBX1dPHStTg3acAAAACAcABwgYECAgACH/C05FVFNDQVBFMi4wAwEAAAAsAgAAAAUACACBX1dPHStTg3acAAAACCkABwQAMABAgIMAAgQYAKChQwADAEgEMACARQADAAQAIGAAgAADBAwICAAh/wtORVRTQ0FQRTIuMAMBAAAALAEAAAAHAAgAgV9XTx0rU4N2nAAAAAg6AAcMCDAAwAAAAwIEGBAAQIABAQYIAEAxAICLFwcEAMCR44AAAEKGHDAAQIABAAAMGAAgwAABAgYEBAAh/wtORVRTQ0FQRTIuMAMBAAAALAYABgACAAIAgV9XTx0rU4N2nAAAAAgHAAEIGDAgIAA7\" style=\"width: 5em; image-rendering: -moz-crisp-edges; image-rendering: crisp-edges; image-rendering: pixelated; \"></td></tr></table>"
      ],
      "text/plain": [
       "Clip(id='9')"
      ]
     },
     "execution_count": 13,
     "metadata": {},
     "output_type": "execute_result"
    }
   ],
   "source": [
    "turn_from_standing = gamekitty.get_clip(9)\n",
    "turn_from_standing"
   ]
  },
  {
   "cell_type": "code",
   "execution_count": 14,
   "metadata": {},
   "outputs": [
    {
     "data": {
      "image/gif": "[encoded data removed]",
      "text/html": [
       "<table><tr><th>Transition</th><th></th></tr><tr><td>id</td><td>7</td></tr><tr><td>source.id</td><td>(2, 3)</td></tr><tr><td>source.image</td><td><img alt=\"image with key md5-55bea535357482806ad24bf699c7941d\" src=\"data:image/png;base64,iVBORw0KGgoAAAANSUhEUgAAAAgAAAAICAYAAADED76LAAAAZ0lEQVR4nGOID/f/z8DAwACj0dlM+66wMMSH+//fd4WFARnAFDE56fxhYGBgYHDS+cPQXDbnPwMDA8PClRsZYQoZ0Y1EBgtXbmRkwiaBDIhXALN34cqNjMgOZmJgYGBQkfdlQKaR2QD0Rx/wn9C1wQAAAABJRU5ErkJggg==\" style=\"width: 5em; image-rendering: -moz-crisp-edges; image-rendering: crisp-edges; image-rendering: pixelated; \"></td></tr><tr><td>target.id</td><td>(9, 0)</td></tr><tr><td>target.image</td><td><img alt=\"image with key md5-e63a47f1225a753d873ed2cbebcebdf8\" src=\"data:image/png;base64,iVBORw0KGgoAAAANSUhEUgAAAAgAAAAICAYAAADED76LAAAAa0lEQVR4nGOID/f/z8DAwACj0dlM+66wMMSH+//fd4WFARnAFDE56fxhYGBgYHDS+cPQXDbnPwMDA8PClRsZYQoZ0Y1EBgtXbmRkwiaBDIhTsHDlRkYVeV+4scgOhptQ25UCV8TAwMAAYwMALWEhXN/PPwEAAAAASUVORK5CYII=\" style=\"width: 5em; image-rendering: -moz-crisp-edges; image-rendering: crisp-edges; image-rendering: pixelated; \"></td></tr><tr><td>preview</td><td><img alt=\"clip preview\" src=\"data:image/gif;base64,R0lGODlhCAAIAIEAAF9XTx0rU4N2nAAAACH/C05FVFNDQVBFMi4wAwEAAAAsAAAAAAgACAAACDkABwAYAGCAQYMBAAQYwJAhgIcCBkiUCKAigAEYBwDYuHGARwAgQQ4YCUAAgJMBBgwQECCAAAAAAgIAIf8LTkVUU0NBUEUyLjADAQAAACwDAAIABQAGAIFfV08dK1ODdpwAAAAIHgABCAAwYACAgwACAFgIIACAhxAHAJgoIIAAAAMCAgAh/wtORVRTQ0FQRTIuMAMBAAAALAAAAAAIAAgAgV9XTx0rU4N2nAAAAAg8AAEMADCgYMEAAAIMWAhgAICHAgYMAABgAICLFwcAGACgo0cAAwIAGDlygEkBAAYEADCg5QABAQQAGBAQACH/C05FVFNDQVBFMi4wAwEAAAAsAQAAAAcACACBX1dPHStTg3acAAAACDgABwAYMADAgAEAAgwYAADAAAAABAwYAGAAgIsYBwDYyHEAgI8gBwAYAGBAAAADBAwQMCCAgAEBAQAh/wtORVRTQ0FQRTIuMAMBAAAALAEABgACAAIAgV9XTx0rU4N2nAAAAAgHAAcIGDAgIAAh/wtORVRTQ0FQRTIuMAMBAAAALAAAAAAHAAgAgV9XTx0rU4N2nAAAAAg7AAcAGABgQIABAwIACDAgQIABACIKGBBgwAAAGAEEGDAAgEePAwYAGDlywAAAAwAEADBggIABAgIACAgAIf8LTkVUU0NBUEUyLjADAQAAACwEAAYAAQACAIFfV08dK1ODdpwAAAAIBgAFABgQEAAh/wtORVRTQ0FQRTIuMAMBAAAALAEAAAAGAAgAgV9XTx0rU4N2nAAAAAg0AAcAGAAgwIABAQAECDBgAICHAQYMAEARwIABADICGDAAgMcAAwYACAAgwIABAgIICDAgIAAh/wtORVRTQ0FQRTIuMAMBAAAALAIABgACAAIAgV9XTx0rU4N2nAAAAAgHAAcIGBAgIAAh/wtORVRTQ0FQRTIuMAMBAAAALAIAAAAFAAgAgV9XTx0rU4N2nAAAAAgpAAcEADAAQICDAAIEGACgoUMAAwBIBDAAgEUAAwAEACBgAIAAAwQMCAgAIf8LTkVUU0NBUEUyLjADAQAAACwBAAAABwAIAIFfV08dK1ODdpwAAAAIOgAHDAgwAMAAAAMCBBgQAECAAQEGCABAMQCAixcHBADAkeOAAABChhwwAECAAQAADBgAIMAAAQIGBAQAIf8LTkVUU0NBUEUyLjADAQAAACwGAAYAAgACAIFfV08dK1ODdpwAAAAIBwABCBgwICAAOw==\" style=\"width: 5em; image-rendering: -moz-crisp-edges; image-rendering: crisp-edges; image-rendering: pixelated; \"></td></tr></table>"
      ],
      "text/plain": [
       "Transition(id=7, source=Frame(id='(2, 3)'), targetFrame(id='(9, 0)'))"
      ]
     },
     "execution_count": 14,
     "metadata": {},
     "output_type": "execute_result"
    }
   ],
   "source": [
    "stand_up.transition_to(turn_from_standing)"
   ]
  },
  {
   "cell_type": "code",
   "execution_count": 15,
   "metadata": {},
   "outputs": [
    {
     "data": {
      "text/plain": [
       "(Transition(id=6, source=Frame(id='(2, 3)'), targetFrame(id='(6, 0)')),\n",
       " Transition(id=7, source=Frame(id='(2, 3)'), targetFrame(id='(9, 0)')))"
      ]
     },
     "execution_count": 15,
     "metadata": {},
     "output_type": "execute_result"
    }
   ],
   "source": [
    "stand_up.transitions"
   ]
  },
  {
   "cell_type": "code",
   "execution_count": 16,
   "metadata": {},
   "outputs": [
    {
     "data": {
      "image/gif": "[encoded data removed]",
      "text/html": [
       "<table><tr><th>Transition</th><th></th></tr><tr><td>id</td><td>8</td></tr><tr><td>source.id</td><td>(6, 1)</td></tr><tr><td>source.image</td><td><img alt=\"image with key md5-55bea535357482806ad24bf699c7941d\" src=\"data:image/png;base64,iVBORw0KGgoAAAANSUhEUgAAAAgAAAAICAYAAADED76LAAAAZ0lEQVR4nGOID/f/z8DAwACj0dlM+66wMMSH+//fd4WFARnAFDE56fxhYGBgYHDS+cPQXDbnPwMDA8PClRsZYQoZ0Y1EBgtXbmRkwiaBDIhXALN34cqNjMgOZmJgYGBQkfdlQKaR2QD0Rx/wn9C1wQAAAABJRU5ErkJggg==\" style=\"width: 5em; image-rendering: -moz-crisp-edges; image-rendering: crisp-edges; image-rendering: pixelated; \"></td></tr><tr><td>target.id</td><td>(6, 0)</td></tr><tr><td>target.image</td><td><img alt=\"image with key md5-c28a87eda869e3329710b6e9cbb8cd76\" src=\"data:image/png;base64,iVBORw0KGgoAAAANSUhEUgAAAAgAAAAICAYAAADED76LAAAAX0lEQVR4nGOID/f/z8DAwACjYQDGZ9p3hYUhPtz//74rLAzYAJOTzh8GBgYGBiedPwzNZXP+oytgxGY8DCxcuZGRCau5yFYQrWDhyo2MMBrZwUwMDAwMKvK+DMg0MhsA85Yb8GJtyLkAAAAASUVORK5CYII=\" style=\"width: 5em; image-rendering: -moz-crisp-edges; image-rendering: crisp-edges; image-rendering: pixelated; \"></td></tr><tr><td>preview</td><td><img alt=\"clip preview\" src=\"data:image/gif;base64,R0lGODlhCAAIAIEAAF9XTx0rU4N2nAAAACH/C05FVFNDQVBFMi4wAwEAAAAsAAAAAAgACAAACD0AAQwAMKAggAEBAAQYwBDAAAAQBQwYAGDAAAAYMw4YAKCjxwEDAIgcOWAAgAEABgQAMGCAgAECBgQQMCAgACH/C05FVFNDQVBFMi4wAwEAAAAsBQAAAAIAAgCBX1dPHStTg3acAAAACAcAAQwAACAgACH/C05FVFNDQVBFMi4wAwEAAAAsBQAAAAIAAgCBX1dPHStTg3acAAAACAcABwAYACAgACH/C05FVFNDQVBFMi4wAwEAAAAsBQAAAAIAAgCBX1dPHStTg3acAAAACAcAAQwAACAgADs=\" style=\"width: 5em; image-rendering: -moz-crisp-edges; image-rendering: crisp-edges; image-rendering: pixelated; \"></td></tr></table>"
      ],
      "text/plain": [
       "Transition(id=8, source=Frame(id='(6, 1)'), targetFrame(id='(6, 0)'))"
      ]
     },
     "execution_count": 16,
     "metadata": {},
     "output_type": "execute_result"
    }
   ],
   "source": [
    "standing_waggle.transition_to(standing_waggle)"
   ]
  },
  {
   "cell_type": "code",
   "execution_count": 17,
   "metadata": {},
   "outputs": [
    {
     "data": {
      "image/gif": "[encoded data removed]",
      "text/html": [
       "<table><tr><th>Clip</th><th></th></tr><tr><td>id</td><td>7</td></tr><tr><td>frames</td><td><img alt=\"clip preview\" src=\"data:image/gif;base64,R0lGODlhCAAIAIEAAF9XTx0rU4N2nAAAACH/C05FVFNDQVBFMi4wAwEAAAAsAAAAAAgACAAACDwAAQwAMKAggAEBAAQYwBCAQ4cCAAQYAGAAgIsXAwAYAKCjRwADAgAYOXKASQEABgQAMKDlAAEDAggYEBAAIf8LTkVUU0NBUEUyLjADAQAAACwAAAAABwAIAIFfV08dK1ODdpwAAAAIOQAHABgAYMAAAAMCAAgwYACAAQAiCgAwoCKAixcHDADAkeOAAQBChhwwAACAAQEADBggQMCAAAICAgAh/wtORVRTQ0FQRTIuMAMBAAAALAMABQABAAMAgV9XTx0rU4N2nAAAAAgHAAMAEDAgIAAh/wtORVRTQ0FQRTIuMAMBAAAALAMAAAAFAAgAgV9XTx0rU4N2nAAAAAgqAAEMGDggwICDAwAIADAgAICHAAIAmAggAICLAAIMABAAAIABAgIIGBAQACH/C05FVFNDQVBFMi4wAwEAAAAsBQACAAMABgCBX1dPHStTg3acAAAACBYABwgEMGAAAAADAAAIAABAAAEAAAQEADs=\" style=\"width: 5em; image-rendering: -moz-crisp-edges; image-rendering: crisp-edges; image-rendering: pixelated; \"></td></tr></table>"
      ],
      "text/plain": [
       "Clip(id='7')"
      ]
     },
     "execution_count": 17,
     "metadata": {},
     "output_type": "execute_result"
    }
   ],
   "source": [
    "sit_down"
   ]
  },
  {
   "cell_type": "code",
   "execution_count": 18,
   "metadata": {},
   "outputs": [
    {
     "data": {
      "image/png": "[encoded data removed]",
      "text/html": [
       "<table><tr><th>Frame</th><th></th></tr><tr><td>id</td><td>(7, 4)</td></tr><tr><td>duration</td><td>0.083333 seconds</td></tr><tr><td>image.key</td><td>md5-a22919af21fb55cc440e4e778ea62f26</td></tr><tr><td>image.contents</td><td><img alt=\"image with key md5-a22919af21fb55cc440e4e778ea62f26\" src=\"data:image/png;base64,iVBORw0KGgoAAAANSUhEUgAAAAgAAAAICAYAAADED76LAAAAY0lEQVR4nGNgYGBgiA/3/49MIwMmBgYGhn1XWBjiw/3/77vCgi4PUeCk84cBRjeXzUExhRHGQDd+4cqNjHATsAGYBpwKGBgYGGS1g/+jKIAZi+FIBgYGBhV5XzgNYzvp/GEAAG7JG2J6oHfZAAAAAElFTkSuQmCC\" style=\"width: 5em; image-rendering: -moz-crisp-edges; image-rendering: crisp-edges; image-rendering: pixelated; \"></td></tr></table>"
      ],
      "text/plain": [
       "Frame(id='(7, 4)')"
      ]
     },
     "execution_count": 18,
     "metadata": {},
     "output_type": "execute_result"
    }
   ],
   "source": [
    "sit_down.frames[4]"
   ]
  },
  {
   "cell_type": "code",
   "execution_count": 19,
   "metadata": {},
   "outputs": [
    {
     "data": {
      "image/png": "[encoded data removed]",
      "text/html": [
       "<table><tr><th>Frame</th><th></th></tr><tr><td>id</td><td>(1, 0)</td></tr><tr><td>duration</td><td>0.083333 seconds</td></tr><tr><td>image.key</td><td>md5-9b084a2f4cc7a7f940fac47ebe710c45</td></tr><tr><td>image.contents</td><td><img alt=\"image with key md5-9b084a2f4cc7a7f940fac47ebe710c45\" src=\"data:image/png;base64,iVBORw0KGgoAAAANSUhEUgAAAAgAAAAICAYAAADED76LAAAAXElEQVR4nGNgYGBgiA/3/49MIwMmBgYGhn1XWBjiw/3/77vCgi4PUeCk84cBRjeXzUExhRHGQDd+4cqNjHATsAGYBpwKUNwAA+iOlNUO/g9XoCLvC6dhbCedPwwAJgMa/Dg5AkIAAAAASUVORK5CYII=\" style=\"width: 5em; image-rendering: -moz-crisp-edges; image-rendering: crisp-edges; image-rendering: pixelated; \"></td></tr></table>"
      ],
      "text/plain": [
       "Frame(id='(1, 0)')"
      ]
     },
     "execution_count": 19,
     "metadata": {},
     "output_type": "execute_result"
    }
   ],
   "source": [
    "sitting.frames[0]"
   ]
  },
  {
   "cell_type": "code",
   "execution_count": 20,
   "metadata": {},
   "outputs": [
    {
     "data": {
      "image/gif": "[encoded data removed]",
      "text/html": [
       "<table><tr><th>Transition</th><th></th></tr><tr><td>id</td><td>9</td></tr><tr><td>source.id</td><td>(6, 1)</td></tr><tr><td>source.image</td><td><img alt=\"image with key md5-55bea535357482806ad24bf699c7941d\" src=\"data:image/png;base64,iVBORw0KGgoAAAANSUhEUgAAAAgAAAAICAYAAADED76LAAAAZ0lEQVR4nGOID/f/z8DAwACj0dlM+66wMMSH+//fd4WFARnAFDE56fxhYGBgYHDS+cPQXDbnPwMDA8PClRsZYQoZ0Y1EBgtXbmRkwiaBDIhXALN34cqNjMgOZmJgYGBQkfdlQKaR2QD0Rx/wn9C1wQAAAABJRU5ErkJggg==\" style=\"width: 5em; image-rendering: -moz-crisp-edges; image-rendering: crisp-edges; image-rendering: pixelated; \"></td></tr><tr><td>target.id</td><td>(7, 0)</td></tr><tr><td>target.image</td><td><img alt=\"image with key md5-018dbee985489eec728bbd1b87e29e3e\" src=\"data:image/png;base64,iVBORw0KGgoAAAANSUhEUgAAAAgAAAAICAYAAADED76LAAAAgElEQVR4nG2OLQ6EMBBG3zS9BwbJKfCksrKGa3ABboFcgdis7ymKwxCuQVIEtCFsn5nM5PsZnDURIM1E2pUPGmdN9EHzxlkT5emsq451++GDZl9mcdZEKcUD+KBpmwP1l3vTNgfAJSj1A0yfryiAfZmlrrp8fBpyxTD2WZQeBjgB0T4rZZblbEkAAAAASUVORK5CYII=\" style=\"width: 5em; image-rendering: -moz-crisp-edges; image-rendering: crisp-edges; image-rendering: pixelated; \"></td></tr><tr><td>preview</td><td><img alt=\"clip preview\" src=\"data:image/gif;base64,R0lGODlhCAAIAIEAAF9XTx0rU4N2nAAAACH/C05FVFNDQVBFMi4wAwEAAAAsAAAAAAgACAAACD0AAQwAMKAggAEBAAQYwBDAAAAQBQwYAGDAAAAYMw4YAKCjxwEDAIgcOWAAgAEABgQAMGCAgAECBgQQMCAgACH/C05FVFNDQVBFMi4wAwEAAAAsBQAAAAIAAgCBX1dPHStTg3acAAAACAcAAQwAACAgACH/C05FVFNDQVBFMi4wAwEAAAAsAQAAAAcACACBX1dPHStTg3acAAAACDMABwAYQBDAAAABBigEwBCAAAABBgCYSDEAgIsYLwYAwJHjgAECAAwIAGCASQEDAggYEBAAIf8LTkVUU0NBUEUyLjADAQAAACwAAAAABwAIAIFfV08dK1ODdpwAAAAIOQAHABgAYMAAAAMCAAgwYACAAQAiCgAwoCKAixcHDADAkeOAAQBChhwwAACAAQEADBggQMCAAAICAgAh/wtORVRTQ0FQRTIuMAMBAAAALAMABQABAAMAgV9XTx0rU4N2nAAAAAgHAAMAEDAgIAAh/wtORVRTQ0FQRTIuMAMBAAAALAMAAAAFAAgAgV9XTx0rU4N2nAAAAAgqAAEMGDggwICDAwAIADAgAICHAAIAmAggAICLAAIMABAAAIABAgIIGBAQACH/C05FVFNDQVBFMi4wAwEAAAAsBQACAAMABgCBX1dPHStTg3acAAAACBYABwgEMGAAAAADAAAIAABAAAEAAAQEADs=\" style=\"width: 5em; image-rendering: -moz-crisp-edges; image-rendering: crisp-edges; image-rendering: pixelated; \"></td></tr></table>"
      ],
      "text/plain": [
       "Transition(id=9, source=Frame(id='(6, 1)'), targetFrame(id='(7, 0)'))"
      ]
     },
     "execution_count": 20,
     "metadata": {},
     "output_type": "execute_result"
    }
   ],
   "source": [
    "standing_waggle.transition_to(sit_down)"
   ]
  },
  {
   "cell_type": "code",
   "execution_count": 21,
   "metadata": {},
   "outputs": [
    {
     "data": {
      "image/gif": "[encoded data removed]",
      "text/html": [
       "<table><tr><th>Transition</th><th></th></tr><tr><td>id</td><td>10</td></tr><tr><td>source.id</td><td>(6, 1)</td></tr><tr><td>source.image</td><td><img alt=\"image with key md5-55bea535357482806ad24bf699c7941d\" src=\"data:image/png;base64,iVBORw0KGgoAAAANSUhEUgAAAAgAAAAICAYAAADED76LAAAAZ0lEQVR4nGOID/f/z8DAwACj0dlM+66wMMSH+//fd4WFARnAFDE56fxhYGBgYHDS+cPQXDbnPwMDA8PClRsZYQoZ0Y1EBgtXbmRkwiaBDIhXALN34cqNjMgOZmJgYGBQkfdlQKaR2QD0Rx/wn9C1wQAAAABJRU5ErkJggg==\" style=\"width: 5em; image-rendering: -moz-crisp-edges; image-rendering: crisp-edges; image-rendering: pixelated; \"></td></tr><tr><td>target.id</td><td>(9, 0)</td></tr><tr><td>target.image</td><td><img alt=\"image with key md5-e63a47f1225a753d873ed2cbebcebdf8\" src=\"data:image/png;base64,iVBORw0KGgoAAAANSUhEUgAAAAgAAAAICAYAAADED76LAAAAa0lEQVR4nGOID/f/z8DAwACj0dlM+66wMMSH+//fd4WFARnAFDE56fxhYGBgYHDS+cPQXDbnPwMDA8PClRsZYQoZ0Y1EBgtXbmRkwiaBDIhTsHDlRkYVeV+4scgOhptQ25UCV8TAwMAAYwMALWEhXN/PPwEAAAAASUVORK5CYII=\" style=\"width: 5em; image-rendering: -moz-crisp-edges; image-rendering: crisp-edges; image-rendering: pixelated; \"></td></tr><tr><td>preview</td><td><img alt=\"clip preview\" src=\"data:image/gif;base64,R0lGODlhCAAIAIEAAF9XTx0rU4N2nAAAACH/C05FVFNDQVBFMi4wAwEAAAAsAAAAAAgACAAACD0AAQwAMKAggAEBAAQYwBDAAAAQBQwYAGDAAAAYMw4YAKCjxwEDAIgcOWAAgAEABgQAMGCAgAECBgQQMCAgACH/C05FVFNDQVBFMi4wAwEAAAAsBQAAAAIAAgCBX1dPHStTg3acAAAACAcAAQwAACAgACH/C05FVFNDQVBFMi4wAwEAAAAsAQAGAAIAAgCBX1dPHStTg3acAAAACAcABwgYMCAgACH/C05FVFNDQVBFMi4wAwEAAAAsAAAAAAcACACBX1dPHStTg3acAAAACDsABwAYAGBAgAEDAgAIMCBAgAEAIgoYEGDAAAAYAQQYMACAR48DBgAYOXLAAAADAAQAMGCAgAECAgAICAAh/wtORVRTQ0FQRTIuMAMBAAAALAQABgABAAIAgV9XTx0rU4N2nAAAAAgGAAUAGBAQACH/C05FVFNDQVBFMi4wAwEAAAAsAQAAAAYACACBX1dPHStTg3acAAAACDQABwAYACDAgAEBAAQIMGAAgIcBBgwAQBHAgAEAMgIYMACAxwADBgAIACDAgAECAggIMCAgACH/C05FVFNDQVBFMi4wAwEAAAAsAgAGAAIAAgCBX1dPHStTg3acAAAACAcABwgYECAgACH/C05FVFNDQVBFMi4wAwEAAAAsAgAAAAUACACBX1dPHStTg3acAAAACCkABwQAMABAgIMAAgQYAKChQwADAEgEMACARQADAAQAIGAAgAADBAwICAAh/wtORVRTQ0FQRTIuMAMBAAAALAEAAAAHAAgAgV9XTx0rU4N2nAAAAAg6AAcMCDAAwAAAAwIEGBAAQIABAQYIAEAxAICLFwcEAMCR44AAAEKGHDAAQIABAAAMGAAgwAABAgYEBAAh/wtORVRTQ0FQRTIuMAMBAAAALAYABgACAAIAgV9XTx0rU4N2nAAAAAgHAAEIGDAgIAA7\" style=\"width: 5em; image-rendering: -moz-crisp-edges; image-rendering: crisp-edges; image-rendering: pixelated; \"></td></tr></table>"
      ],
      "text/plain": [
       "Transition(id=10, source=Frame(id='(6, 1)'), targetFrame(id='(9, 0)'))"
      ]
     },
     "execution_count": 21,
     "metadata": {},
     "output_type": "execute_result"
    }
   ],
   "source": [
    "standing_waggle.transition_to(turn_from_standing)"
   ]
  },
  {
   "cell_type": "code",
   "execution_count": 22,
   "metadata": {},
   "outputs": [
    {
     "data": {
      "text/plain": [
       "(Transition(id=8, source=Frame(id='(6, 1)'), targetFrame(id='(6, 0)')),\n",
       " Transition(id=9, source=Frame(id='(6, 1)'), targetFrame(id='(7, 0)')),\n",
       " Transition(id=10, source=Frame(id='(6, 1)'), targetFrame(id='(9, 0)')))"
      ]
     },
     "execution_count": 22,
     "metadata": {},
     "output_type": "execute_result"
    }
   ],
   "source": [
    "standing_waggle.transitions"
   ]
  },
  {
   "cell_type": "code",
   "execution_count": 23,
   "metadata": {},
   "outputs": [
    {
     "data": {
      "image/gif": "[encoded data removed]",
      "text/html": [
       "<table><tr><th>Transition</th><th></th></tr><tr><td>id</td><td>11</td></tr><tr><td>source.id</td><td>(7, 4)</td></tr><tr><td>source.image</td><td><img alt=\"image with key md5-a22919af21fb55cc440e4e778ea62f26\" src=\"data:image/png;base64,iVBORw0KGgoAAAANSUhEUgAAAAgAAAAICAYAAADED76LAAAAY0lEQVR4nGNgYGBgiA/3/49MIwMmBgYGhn1XWBjiw/3/77vCgi4PUeCk84cBRjeXzUExhRHGQDd+4cqNjHATsAGYBpwKGBgYGGS1g/+jKIAZi+FIBgYGBhV5XzgNYzvp/GEAAG7JG2J6oHfZAAAAAElFTkSuQmCC\" style=\"width: 5em; image-rendering: -moz-crisp-edges; image-rendering: crisp-edges; image-rendering: pixelated; \"></td></tr><tr><td>target.id</td><td>(1, 0)</td></tr><tr><td>target.image</td><td><img alt=\"image with key md5-9b084a2f4cc7a7f940fac47ebe710c45\" src=\"data:image/png;base64,iVBORw0KGgoAAAANSUhEUgAAAAgAAAAICAYAAADED76LAAAAXElEQVR4nGNgYGBgiA/3/49MIwMmBgYGhn1XWBjiw/3/77vCgi4PUeCk84cBRjeXzUExhRHGQDd+4cqNjHATsAGYBpwKUNwAA+iOlNUO/g9XoCLvC6dhbCedPwwAJgMa/Dg5AkIAAAAASUVORK5CYII=\" style=\"width: 5em; image-rendering: -moz-crisp-edges; image-rendering: crisp-edges; image-rendering: pixelated; \"></td></tr><tr><td>preview</td><td><img alt=\"clip preview\" src=\"data:image/gif;base64,R0lGODlhCAAIAIEAAF9XTx0rU4N2nAAAACH/C05FVFNDQVBFMi4wAwEAAAAsAAAAAAgACAAACDwAAQwAMKAggAEBAAQYwBCAQ4cCAAQYAGAAgIsXAwAYAKCjRwADAgAYOXKASQEABgQAMKDlAAEDAggYEBAAIf8LTkVUU0NBUEUyLjADAQAAACwAAAAABwAIAIFfV08dK1ODdpwAAAAIOQAHABgAYMAAAAMCAAgwYACAAQAiCgAwoCKAixcHDADAkeOAAQBChhwwAACAAQEADBggQMCAAAICAgAh/wtORVRTQ0FQRTIuMAMBAAAALAMABQABAAMAgV9XTx0rU4N2nAAAAAgHAAMAEDAgIAAh/wtORVRTQ0FQRTIuMAMBAAAALAMAAAAFAAgAgV9XTx0rU4N2nAAAAAgqAAEMGDggwICDAwAIADAgAICHAAIAmAggAICLAAIMABAAAIABAgIIGBAQACH/C05FVFNDQVBFMi4wAwEAAAAsBQACAAMABgCBX1dPHStTg3acAAAACBYABwgEMGAAAAADAAAIAABAAAEAAAQEACH/C05FVFNDQVBFMi4wAwEAAAAsAwAFAAUAAwCBX1dPHStTg3acAAAACBEAAQgEMCAAgIMBAggQAABAQAA7\" style=\"width: 5em; image-rendering: -moz-crisp-edges; image-rendering: crisp-edges; image-rendering: pixelated; \"></td></tr></table>"
      ],
      "text/plain": [
       "Transition(id=11, source=Frame(id='(7, 4)'), targetFrame(id='(1, 0)'))"
      ]
     },
     "execution_count": 23,
     "metadata": {},
     "output_type": "execute_result"
    }
   ],
   "source": [
    "sit_down.transition_to(sitting)"
   ]
  },
  {
   "cell_type": "code",
   "execution_count": 24,
   "metadata": {},
   "outputs": [
    {
     "data": {
      "image/gif": "[encoded data removed]",
      "text/html": [
       "<table><tr><th>Clip</th><th></th></tr><tr><td>id</td><td>23</td></tr><tr><td>frames</td><td><img alt=\"clip preview\" src=\"data:image/gif;base64,R0lGODlhCAAIAIEAAF9XTx0rU4N2nAAAACH/C05FVFNDQVBFMi4wAwEAAAAsAAAAAAgACAAACD0ABwAYQBDAAAADAAxYGABAgAEABgwQAKDiAAAYMw4YAKCjxwEDAIgcOWAAgAADAAwAMGCAgAADBAwQMCAgACH/C05FVFNDQVBFMi4wAwEAAAAsAQAAAAIAAgCBX1dPHStTg3acAAAACAYABwAYGBAAOw==\" style=\"width: 5em; image-rendering: -moz-crisp-edges; image-rendering: crisp-edges; image-rendering: pixelated; \"></td></tr></table>"
      ],
      "text/plain": [
       "Clip(id='23')"
      ]
     },
     "execution_count": 24,
     "metadata": {},
     "output_type": "execute_result"
    }
   ],
   "source": [
    "standing_waggle_mirror"
   ]
  },
  {
   "cell_type": "code",
   "execution_count": 25,
   "metadata": {},
   "outputs": [
    {
     "data": {
      "image/gif": "[encoded data removed]",
      "text/html": [
       "<table><tr><th>Transition</th><th></th></tr><tr><td>id</td><td>12</td></tr><tr><td>source.id</td><td>(8, 6)</td></tr><tr><td>source.image</td><td><img alt=\"image with key md5-a92f2db9a276ce63ffe91a4ca088729b\" src=\"data:image/png;base64,iVBORw0KGgoAAAANSUhEUgAAAAgAAAAICAYAAADED76LAAAAdUlEQVR4nGNggAJZ7eD/MHZ8uP9/GM3EgAXsu8LCEB/u/3/fFRYGJnTdzWVz/jvp/GFgYGBgcNL5w8CIbCQ6WLhyIyNWK5ABXgUojtx3hYVh3xUWhoUrNzLCjFeR90U14fHVtYwMDAwMKvK+DAwMDAy1XSmMAN8JI/x/DJvzAAAAAElFTkSuQmCC\" style=\"width: 5em; image-rendering: -moz-crisp-edges; image-rendering: crisp-edges; image-rendering: pixelated; \"></td></tr><tr><td>target.id</td><td>(23, 0)</td></tr><tr><td>target.image</td><td><img alt=\"image with key md5-9de0b0b6fc7117fbf9aee85d24938ff4\" src=\"data:image/png;base64,iVBORw0KGgoAAAANSUhEUgAAAAgAAAAICAYAAADED76LAAAAYUlEQVR4nGNgYGBgiA/3/8+ABGD8+HD//0wMWMC+KywM8eH+//ddYWHAUNBcNue/k84fBgYGBgYnnT8MjNisgIGFKzcyYrUCGRCvYN8VFoaFKzcywoxGUaAi7wvXAWPDaAAhjhvwXzvIXgAAAABJRU5ErkJggg==\" style=\"width: 5em; image-rendering: -moz-crisp-edges; image-rendering: crisp-edges; image-rendering: pixelated; \"></td></tr><tr><td>preview</td><td><img alt=\"clip preview\" src=\"data:image/gif;base64,R0lGODlhCAAIAIEAAF9XTx0rU4N2nAAAACH/C05FVFNDQVBFMi4wAwEAAAAsAAAAAAgACAAACDkABwAYAGCAQYMBAAQYwJAhgIcCBkiUCKAigAEYBwDYuHGARwAgQQ4YCUAAgJMBBgwQECCAAAAAAgIAIf8LTkVUU0NBUEUyLjADAQAAACwBAAAABwAIAIFfV08dK1ODdpwAAAAIOAAHABgAYIDBAQEABBjAcACAhwMiDgAAQAAAAAEGANi4McAAACBBBhgAIIAAACgHCBgQQACAAQEBACH/C05FVFNDQVBFMi4wAwEAAAAsAgAAAAYACACBX1dPHStTg3acAAAACDIAAQwAMGBAgAAAAgwIEACAwwEBBgCYCCDAAAAYAQQYAKBjxwEDBAAYOWBAgAACAgwICAAh/wtORVRTQ0FQRTIuMAMBAAAALAIAAAAGAAcAgV9XTx0rU4N2nAAAAAgtAAcAGABgQIABAQAEGBBgAICHAQIAmAggwAAAGAEEGDAAgMcAAwYEEAAgwICAACH/C05FVFNDQVBFMi4wAwEAAAAsAgAAAAYACACBX1dPHStTg3acAAAACDMABwQYAGAAgAEBEgIIMGBAAAAQBwQQAADAgAEAMgIYMACARwADBgQAQHLAgAABBAgYEBAAIf8LTkVUU0NBUEUyLjADAQAAACwCAAAABAAIAIFfV08dK1ODdpwAAAAIHwADDBgAIECAAQEGBBgAIAAAAQAiSpwYUQCAAAEGBAQAIf8LTkVUU0NBUEUyLjADAQAAACwBAAEABwAHAIFfV08dK1ODdpwAAAAIKwAHBBgwIACAAAgHCADAsGHDAQAiShwAoKLFigECDAAwQACAAAMGCBgwICAAIf8LTkVUU0NBUEUyLjADAQAAACwBAAAABwAIAIFfV08dK1ODdpwAAAAIMwABDBgIYAAAAAMSBgAQAMCAAQIASJw4cQCAixgHANjIcQCAAAMADAAwQECAAQIGCBgQEAAh/wtORVRTQ0FQRTIuMAMBAAAALAEAAAACAAIAgV9XTx0rU4N2nAAAAAgGAAcAGBgQADs=\" style=\"width: 5em; image-rendering: -moz-crisp-edges; image-rendering: crisp-edges; image-rendering: pixelated; \"></td></tr></table>"
      ],
      "text/plain": [
       "Transition(id=12, source=Frame(id='(8, 6)'), targetFrame(id='(23, 0)'))"
      ]
     },
     "execution_count": 25,
     "metadata": {},
     "output_type": "execute_result"
    }
   ],
   "source": [
    "turn_from_sitting.transition_to(standing_waggle_mirror)"
   ]
  },
  {
   "cell_type": "code",
   "execution_count": 29,
   "metadata": {},
   "outputs": [
    {
     "data": {
      "image/gif": "[encoded data removed]",
      "text/html": [
       "<table><tr><th>MultiClip</th><th></th></tr><tr><td>frames</td><td>Frame(id='(1, 0)')<br>Frame(id='(17, 0)')<br>Frame(id='(17, 1)')<br>Frame(id='(17, 2)')<br>Frame(id='(17, 3)')<br>Frame(id='(17, 4)')<br>Frame(id='(17, 5)')<br>Frame(id='(17, 6)')<br>Frame(id='(17, 7)')<br>Frame(id='(17, 8)')<br>Frame(id='(1, 0)')</td></tr><tr><td>preview</td><td><img alt=\"clip preview\" src=\"data:image/gif;base64,R0lGODlhCAAIAIEAAF9XTx0rU4N2nAAAACH/C05FVFNDQVBFMi4wAwEAAAAsAAAAAAgACAAACDkABwAYAGCAQYMBAAQYwJAhgIcCBkiUCKAigAEYBwDYuHGARwAgQQ4YCSAAgJMBBgwQEECAAAAAAgIAIf8LTkVUU0NBUEUyLjADAQAAACwDAAcAAgABAIFfV08dK1ODdpwAAAAIBQAFBAgIACH/C05FVFNDQVBFMi4wAwEAAAAsAQAAAAcACACBX1dPHStTg3acAAAACDIABwgcOADAAAADEg4IACDAgIcDAEgUMKDiAAAYMQ4YAKBjxwADAIgcOUBAgAACAAAICAAh/wtORVRTQ0FQRTIuMAMBAAAALAAAAQAHAAcAgV9XTx0rU4N2nAAAAAgsAAEMADCg4IAAAAIMWDgAgEMBAyIOAECRYoABADJqHACgo8cBAgQECCAAQEAAIf8LTkVUU0NBUEUyLjADAQAAACwAAAEACAAHAIFfV08dK1ODdpwAAAAIMAAHCBwoEMAAAAMSJgwAIMCAhw8BSBQAoOKAAQAyagQwAIDHjwAEBBAAIIAAAAACAgAh/wtORVRTQ0FQRTIuMAMBAAAALAAAAgAGAAYAgV9XTx0rU4N2nAAAAAgjAAcMADCgIIAAAAYoBMBQAAAAAwBIlBgAgEWLAQQAABAgQEAAIf8LTkVUU0NBUEUyLjADAQAAACwAAAIABgAGAIFfV08dK1ODdpwAAAAIIwABDAAwoGAAAAEGKATAUAAAAAMASJQ4AIBFiwICCAAQQEBAACH/C05FVFNDQVBFMi4wAwEAAAAsAAABAAgABwCBX1dPHStTg3acAAAACDEAAQwAMKBgwQAAAgxYuBCAQwEDIkYEQJFigAEDAGjcGGAAgI8gAQwQICBAAAEAAAQEACH/C05FVFNDQVBFMi4wAwEAAAAsAAABAAcABwCBX1dPHStTg3acAAAACC8ABwAYAGCAwQEBAAQYwHAAgIcCBkgcAKBixQEDAGjUOGAAgI8fBwwQECCAAAABAQAh/wtORVRTQ0FQRTIuMAMBAAAALAEAAAAHAAgAgV9XTx0rU4N2nAAAAAg1AAEMADCg4IAAAAIMWDgAgEMBAyIOAEARwICLADJmHDAAgEePAwYACACgZIABAgQEEAAAQEAAIf8LTkVUU0NBUEUyLjADAQAAACwDAAcAAgABAIFfV08dK1ODdpwAAAAIBQADCAgIADs=\" style=\"width: 5em; image-rendering: -moz-crisp-edges; image-rendering: crisp-edges; image-rendering: pixelated; \"></td></tr></table>"
      ],
      "text/plain": [
       "MultiClip(frames=(Frame(id='(1, 0)'), Frame(id='(17, 0)'), Frame(id='(17, 1)'), Frame(id='(17, 2)'), Frame(id='(17, 3)'), Frame(id='(17, 4)'), Frame(id='(17, 5)'), Frame(id='(17, 6)'), Frame(id='(17, 7)'), Frame(id='(17, 8)'), Frame(id='(1, 0)'))')"
      ]
     },
     "execution_count": 29,
     "metadata": {},
     "output_type": "execute_result"
    }
   ],
   "source": [
    "sitting + lie_down + sitting"
   ]
  },
  {
   "cell_type": "code",
   "execution_count": null,
   "metadata": {},
   "outputs": [],
   "source": []
  }
 ],
 "metadata": {
  "kernelspec": {
   "display_name": "Python 3",
   "language": "python",
   "name": "python3"
  },
  "language_info": {
   "codemirror_mode": {
    "name": "ipython",
    "version": 3
   },
   "file_extension": ".py",
   "mimetype": "text/x-python",
   "name": "python",
   "nbconvert_exporter": "python",
   "pygments_lexer": "ipython3",
   "version": "3.6.1"
  }
 },
 "nbformat": 4,
 "nbformat_minor": 2
}
